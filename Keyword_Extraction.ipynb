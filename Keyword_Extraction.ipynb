{
  "nbformat": 4,
  "nbformat_minor": 0,
  "metadata": {
    "colab": {
      "provenance": [],
      "machine_shape": "hm",
      "gpuType": "V100",
      "include_colab_link": true
    },
    "kernelspec": {
      "name": "python3",
      "display_name": "Python 3"
    },
    "language_info": {
      "name": "python"
    },
    "accelerator": "GPU"
  },
  "cells": [
    {
      "cell_type": "markdown",
      "metadata": {
        "id": "view-in-github",
        "colab_type": "text"
      },
      "source": [
        "<a href=\"https://colab.research.google.com/github/atrisovic/citation-study/blob/main/Keyword_Extraction.ipynb\" target=\"_parent\"><img src=\"https://colab.research.google.com/assets/colab-badge.svg\" alt=\"Open In Colab\"/></a>"
      ]
    },
    {
      "cell_type": "markdown",
      "source": [
        "# KeyWord Extraction\n",
        "\n",
        "Question: What are the top keywords for all the papers?\n",
        "\n",
        "Answer: Top 10 keywords: [('model', 78186), ('use', 42882), ('training', 28528), ('language', 27349), ('task', 23502), ('train', 20948), ('image', 19266), ('network', 19247), ('dataset', 18421), ('result', 18229)]\n",
        "\n",
        "Total number of unique keywords assessed: 329163\n",
        "\n",
        "Papers: 754/754"
      ],
      "metadata": {
        "id": "B_ZbGXNhDxzd"
      }
    },
    {
      "cell_type": "code",
      "execution_count": 1,
      "metadata": {
        "colab": {
          "base_uri": "https://localhost:8080/"
        },
        "id": "IHqV_ReO5LIB",
        "outputId": "baa395cf-af68-4e00-c1b3-591ee5f98999"
      },
      "outputs": [
        {
          "output_type": "stream",
          "name": "stdout",
          "text": [
            "Requirement already satisfied: requests in /usr/local/lib/python3.10/dist-packages (2.31.0)\n",
            "Collecting PyPDF2\n",
            "  Downloading pypdf2-3.0.1-py3-none-any.whl (232 kB)\n",
            "\u001b[2K     \u001b[90m━━━━━━━━━━━━━━━━━━━━━━━━━━━━━━━━━━━━━━━━\u001b[0m \u001b[32m232.6/232.6 kB\u001b[0m \u001b[31m5.9 MB/s\u001b[0m eta \u001b[36m0:00:00\u001b[0m\n",
            "\u001b[?25hRequirement already satisfied: tqdm in /usr/local/lib/python3.10/dist-packages (4.66.2)\n",
            "Requirement already satisfied: charset-normalizer<4,>=2 in /usr/local/lib/python3.10/dist-packages (from requests) (3.3.2)\n",
            "Requirement already satisfied: idna<4,>=2.5 in /usr/local/lib/python3.10/dist-packages (from requests) (3.6)\n",
            "Requirement already satisfied: urllib3<3,>=1.21.1 in /usr/local/lib/python3.10/dist-packages (from requests) (2.0.7)\n",
            "Requirement already satisfied: certifi>=2017.4.17 in /usr/local/lib/python3.10/dist-packages (from requests) (2024.2.2)\n",
            "Installing collected packages: PyPDF2\n",
            "Successfully installed PyPDF2-3.0.1\n"
          ]
        },
        {
          "output_type": "stream",
          "name": "stderr",
          "text": [
            "[nltk_data] Downloading package stopwords to /root/nltk_data...\n",
            "[nltk_data]   Unzipping corpora/stopwords.zip.\n"
          ]
        },
        {
          "output_type": "stream",
          "name": "stdout",
          "text": [
            "Requirement already satisfied: beautifulsoup4 in /usr/local/lib/python3.10/dist-packages (4.12.3)\n",
            "Requirement already satisfied: soupsieve>1.2 in /usr/local/lib/python3.10/dist-packages (from beautifulsoup4) (2.5)\n"
          ]
        }
      ],
      "source": [
        "!pip install requests PyPDF2 tqdm\n",
        "\n",
        "\n",
        "import pandas as pd\n",
        "import requests\n",
        "from tqdm import tqdm\n",
        "import os\n",
        "from PyPDF2 import PdfReader\n",
        "from collections import Counter\n",
        "import re\n",
        "\n",
        "import nltk\n",
        "from nltk.corpus import stopwords\n",
        "\n",
        "import spacy\n",
        "\n",
        "\n",
        "# English language model\n",
        "nlp = spacy.load(\"en_core_web_sm\")\n",
        "\n",
        "# stopwords to exclude (e.g. the, is, and...)\n",
        "nltk.download('stopwords')\n",
        "stop_words = set(stopwords.words('english'))\n",
        "# biblio words\n",
        "additional_stopwords = ['et', 'al']\n",
        "\n",
        "!pip install beautifulsoup4\n",
        "from bs4 import BeautifulSoup\n",
        "\n",
        "import logging\n",
        "logging.getLogger(\"PyPDF2\").setLevel(logging.ERROR)"
      ]
    },
    {
      "cell_type": "code",
      "source": [
        "# create directories: one for storing the downloaded PDFs and another for storing the converted text files\n",
        "\n",
        "!mkdir pdfs\n",
        "!mkdir texts"
      ],
      "metadata": {
        "id": "Bo9301m260Jw"
      },
      "execution_count": 2,
      "outputs": []
    },
    {
      "cell_type": "code",
      "source": [
        "pcd_dataset = pd.read_csv(\"https://epochai.org/data/epochdb/all_systems.csv\")"
      ],
      "metadata": {
        "id": "UKI3TKXl5eBZ"
      },
      "execution_count": 3,
      "outputs": []
    },
    {
      "cell_type": "code",
      "source": [
        "def get_pdf_url(link):\n",
        "    if link.endswith(\".pdf\"):\n",
        "        return link\n",
        "    elif \"arxiv.org\" in link:\n",
        "        return link.replace(\"abs\", \"pdf\") + \".pdf\"\n",
        "    elif \"nature.com\" in link:\n",
        "        # BeautifulSoup to find the PDF link on Nature pages\n",
        "        response = requests.get(link)\n",
        "        soup = BeautifulSoup(response.content, 'html.parser')\n",
        "        pdf_link = soup.find('a', {'data-track-action': 'download pdf'})\n",
        "        return pdf_link['href'] if pdf_link else None\n",
        "    return None\n",
        "\n",
        "def download_pdfs(dataset, column='Link', save_path='pdfs/'):\n",
        "    \"\"\"Download PDFs from the dataset.\"\"\"\n",
        "    failed_links = []\n",
        "    for i, row in tqdm(dataset.iterrows(), total=len(dataset)):\n",
        "        link = row[column]\n",
        "        if pd.notnull(link):\n",
        "            pdf_url = get_pdf_url(link)\n",
        "            if pdf_url:\n",
        "                file_name = f\"{save_path}{row['System'].replace('/', '_')}.pdf\"\n",
        "                try:\n",
        "                    response = requests.get(pdf_url)\n",
        "                    if response.status_code == 200:\n",
        "                        with open(file_name, 'wb') as f:\n",
        "                            f.write(response.content)\n",
        "                    else:\n",
        "                        failed_links.append(pdf_url)\n",
        "                except Exception as e:\n",
        "                    print(f\"Error downloading {pdf_url}: {e}\")\n",
        "                    failed_links.append(pdf_url)\n",
        "            else:\n",
        "                failed_links.append(link)\n",
        "\n",
        "    if failed_links:\n",
        "        print(\"\\nFailed to download the following links:\")\n",
        "        for link in failed_links:\n",
        "            print(link)\n",
        "\n",
        "# Download PDFs\n",
        "download_pdfs(pcd_dataset)\n"
      ],
      "metadata": {
        "colab": {
          "base_uri": "https://localhost:8080/"
        },
        "id": "wu0jrJhu6Qhe",
        "outputId": "732f97aa-3a2d-4d03-99c9-3ad4034b83a2"
      },
      "execution_count": 4,
      "outputs": [
        {
          "output_type": "stream",
          "name": "stderr",
          "text": [
            "  3%|▎         | 37/1210 [00:28<15:18,  1.28it/s]"
          ]
        },
        {
          "output_type": "stream",
          "name": "stdout",
          "text": [
            "Error downloading /articles/s42003-023-05133-1.pdf: Invalid URL '/articles/s42003-023-05133-1.pdf': No scheme supplied. Perhaps you meant https:///articles/s42003-023-05133-1.pdf?\n"
          ]
        },
        {
          "output_type": "stream",
          "name": "stderr",
          "text": [
            "  9%|▉         | 111/1210 [01:31<15:14,  1.20it/s]"
          ]
        },
        {
          "output_type": "stream",
          "name": "stdout",
          "text": [
            "Error downloading http://machinelearning.wustl.edu/mlpapers/paper_files/AISTATS2011_GlorotBB11.pdf: HTTPConnectionPool(host='machinelearning.wustl.edu', port=80): Max retries exceeded with url: /mlpapers/paper_files/AISTATS2011_GlorotBB11.pdf (Caused by NameResolutionError(\"<urllib3.connection.HTTPConnection object at 0x7c8a5272b160>: Failed to resolve 'machinelearning.wustl.edu' ([Errno -2] Name or service not known)\"))\n"
          ]
        },
        {
          "output_type": "stream",
          "name": "stderr",
          "text": [
            " 14%|█▍        | 169/1210 [02:38<15:24,  1.13it/s]"
          ]
        },
        {
          "output_type": "stream",
          "name": "stdout",
          "text": [
            "Error downloading /articles/s41586-021-03819-2.pdf: Invalid URL '/articles/s41586-021-03819-2.pdf': No scheme supplied. Perhaps you meant https:///articles/s41586-021-03819-2.pdf?\n"
          ]
        },
        {
          "output_type": "stream",
          "name": "stderr",
          "text": [
            " 18%|█▊        | 212/1210 [03:31<19:33,  1.18s/it]"
          ]
        },
        {
          "output_type": "stream",
          "name": "stdout",
          "text": [
            "Error downloading /articles/s41746-021-00455-y.pdf: Invalid URL '/articles/s41746-021-00455-y.pdf': No scheme supplied. Perhaps you meant https:///articles/s41746-021-00455-y.pdf?\n"
          ]
        },
        {
          "output_type": "stream",
          "name": "stderr",
          "text": [
            " 25%|██▍       | 299/1210 [04:31<15:30,  1.02s/it]"
          ]
        },
        {
          "output_type": "stream",
          "name": "stdout",
          "text": [
            "Error downloading /articles/s41586-023-06747-5.pdf: Invalid URL '/articles/s41586-023-06747-5.pdf': No scheme supplied. Perhaps you meant https:///articles/s41586-023-06747-5.pdf?\n"
          ]
        },
        {
          "output_type": "stream",
          "name": "stderr",
          "text": [
            " 40%|████      | 489/1210 [07:34<11:40,  1.03it/s]"
          ]
        },
        {
          "output_type": "stream",
          "name": "stdout",
          "text": [
            "Error downloading /articles/s41467-019-11994-0.pdf: Invalid URL '/articles/s41467-019-11994-0.pdf': No scheme supplied. Perhaps you meant https:///articles/s41467-019-11994-0.pdf?\n"
          ]
        },
        {
          "output_type": "stream",
          "name": "stderr",
          "text": [
            " 43%|████▎     | 524/1210 [08:36<09:21,  1.22it/s]"
          ]
        },
        {
          "output_type": "stream",
          "name": "stdout",
          "text": [
            "Error downloading /articles/s41467-022-32007-7.pdf: Invalid URL '/articles/s41467-022-32007-7.pdf': No scheme supplied. Perhaps you meant https:///articles/s41467-022-32007-7.pdf?\n"
          ]
        },
        {
          "output_type": "stream",
          "name": "stderr",
          "text": [
            " 59%|█████▊    | 710/1210 [13:33<10:04,  1.21s/it]"
          ]
        },
        {
          "output_type": "stream",
          "name": "stdout",
          "text": [
            "Error downloading https://cs.nju.edu.cn/wujx/paper/AAAI2023_AFM.pdf: HTTPSConnectionPool(host='cs.nju.edu.cn', port=443): Max retries exceeded with url: /wujx/paper/AAAI2023_AFM.pdf (Caused by SSLError(SSLError(1, '[SSL: SSLV3_ALERT_HANDSHAKE_FAILURE] sslv3 alert handshake failure (_ssl.c:1007)')))\n"
          ]
        },
        {
          "output_type": "stream",
          "name": "stderr",
          "text": [
            " 84%|████████▍ | 1017/1210 [18:08<02:31,  1.27it/s]"
          ]
        },
        {
          "output_type": "stream",
          "name": "stdout",
          "text": [
            "Error downloading /articles/s41586-023-06735-9.pdf: Invalid URL '/articles/s41586-023-06735-9.pdf': No scheme supplied. Perhaps you meant https:///articles/s41586-023-06735-9.pdf?\n"
          ]
        },
        {
          "output_type": "stream",
          "name": "stderr",
          "text": [
            " 90%|████████▉ | 1084/1210 [18:59<01:17,  1.63it/s]"
          ]
        },
        {
          "output_type": "stream",
          "name": "stdout",
          "text": [
            "Error downloading /articles/s41586-023-06419-4.pdf: Invalid URL '/articles/s41586-023-06419-4.pdf': No scheme supplied. Perhaps you meant https:///articles/s41586-023-06419-4.pdf?\n"
          ]
        },
        {
          "output_type": "stream",
          "name": "stderr",
          "text": [
            "100%|██████████| 1210/1210 [20:49<00:00,  1.03s/it]"
          ]
        },
        {
          "output_type": "stream",
          "name": "stdout",
          "text": [
            "\n",
            "Failed to download the following links:\n",
            "https://pubmed.ncbi.nlm.nih.gov/19000969/\n",
            "https://huggingface.co/karakuri-ai/karakuri-lm-70b-v0.1\n",
            "https://www.aclweb.org/anthology/D12-1110/\n",
            "https://www.semanticscholar.org/paper/Statistical-language-modeling-using-the-toolkit-Clarkson-Rosenfeld/fdf4aa623e4d5b5edaeb873ed8e8b1cef0b59c87\n",
            "https://mp.weixin.qq.com/s/BUQWZ5EdR19i40GuFofpBg\n",
            "https://openai.com/blog/image-gpt/\n",
            "https://ieeexplore.ieee.org/abstract/document/7913730\n",
            "https://jpn.nec.com/press/202307/20230706_02.html\n",
            "https://www.adept.ai/blog/adept-fuyu-heavy\n",
            "https://www.anthropic.com/index/introducing-claude\n",
            "https://link.springer.com/article/10.1007/BF00337288\n",
            "https://openai.com/blog/language-unsupervised/\n",
            "https://engineering.linecorp.com/ja/blog/3.6-billion-parameter-japanese-language-model\n",
            "http://www.lrec-conf.org/proceedings/lrec2022/pdf/2022.lrec-1.376.pdf\n",
            "\n",
            "https://academic.oup.com/comjnl/article/6/3/232/360077\n",
            "https://ieeexplore.ieee.org/document/6032006\n",
            "https://www.microsoft.com/en-us/research/blog/phi-2-the-surprising-power-of-small-language-models/\n",
            "https://stability.ai/news/stable-beluga-large-instruction-fine-tuned-models, https://huggingface.co/stabilityai/StableBeluga2\n",
            "/articles/s42003-023-05133-1.pdf\n",
            "https://kr-asia.com/baidus-ernie-bot-among-eight-chinese-llm-products-approved-for-public-launch, https://api.minimax.chat/\n",
            "https://dl.acm.org/doi/10.1145/1460299.1460326\n",
            "https://www.biorxiv.org/content/10.1101/2020.03.07.982272v2\n",
            "https://huggingface.co/smallcloudai/Refact-1_6B-fim\n",
            "https://ieeexplore.ieee.org/document/4309272\n",
            "https://academic.oup.com/bioinformatics/article/34/9/1466/4708303?login=false\n",
            "https://huggingface.co/WizardLM/WizardLM-70B-V1.0\n",
            "https://arxiv.org/pdf/2304.12244.pdf\n",
            "https://www.biorxiv.org/content/10.1101/2021.10.04.463034v1\n",
            "https://inside.ai/en/news/2023/06/08/aiinside-xresearch/\n",
            "https://inside.ai/en/news/2023/06/29/polysphere-token/\n",
            "https://ieeexplore.ieee.org/document/1336386\n",
            "https://aws.amazon.com/fr/blogs/machine-learning/lighton-lyra-fr-model-is-now-available-on-amazon-sagemaker/\n",
            "https://direct.mit.edu/evco/article/10/2/99/1123/Evolving-Neural-Networks-through-Augmenting\n",
            "https://falconllm.tii.ae/falcon-180b.html; https://arxiv.org/pdf/2311.16867.pdf\n",
            "https://research.nvidia.com/labs/par/calm/\n",
            "https://mistral.ai/news/la-plateforme/\n",
            "https://stability.ai/news/stability-ai-new-jplm-japanese-language-model-stablelm\n",
            "https://www.sensetime.com/en/news-detail/51166397?categoryId=1072\n",
            "https://www.biorxiv.org/content/10.1101/2022.12.07.519495v1\n",
            "https://link.springer.com/chapter/10.1007/11744023_34\n",
            "https://github.com/deepseek-ai/DeepSeek-Coder\n",
            "https://ieeexplore.ieee.org/abstract/document/9067534\n",
            "https://www.ncbi.nlm.nih.gov/pmc/articles/PMC9544280/\n",
            "https://huggingface.co/openchat/openchat_3.5\n",
            "https://www.nature.com/articles/s41592-019-0598-1\n",
            "https://www.aclweb.org/anthology/N13-1090/\n",
            "https://deepmind.google/discover/blog/transforming-the-future-of-music-creation/\n",
            "https://ieeexplore.ieee.org/document/23872\n",
            "https://ai.facebook.com/research/data2vec-a-general-framework-for-self-supervised-learning-in-speech-vision-and-language/\n",
            "https://huggingface.co/pfnet/plamo-13b\n",
            "https://huggingface.co/stabilityai/stablelm-base-alpha-7b-v2\n",
            "https://github.com/kakaobrain/kogpt\n",
            "http://machinelearning.wustl.edu/mlpapers/paper_files/AISTATS2011_GlorotBB11.pdf\n",
            "https://aclanthology.org/P11-1061/\n",
            "http://citeseerx.ist.psu.edu/viewdoc/download?doi=10.1.1.456.1094&rep=rep1&type=pdf\n",
            "https://proceedings.neurips.cc/paper/1988/hash/812b4ba287f5ee0bc9d43bbf5bbe87fb-Abstract.html\n",
            "https://dl.acm.org/doi/pdf/10.1145/2843948\n",
            "https://openaccess.thecvf.com/content_cvpr_2017/html/Ledig_Photo-Realistic_Single_Image_CVPR_2017_paper.html\n",
            "https://dl.acm.org/doi/10.3115/1118693.1118711\n",
            "https://www.researchgate.net/publication/320473480_Mastering_the_game_of_Go_without_human_knowledge\n",
            "https://dspace.mit.edu/handle/1721.1/6884\n",
            "https://openai.com/blog/emergent-tool-use/\n",
            "https://link.springer.com/article/10.1007/BF01556771\n",
            "https://www.semanticscholar.org/paper/Pattern-classification-and-scene-analysis-Duda-Hart/b07ce649d6f6eb636872527104b0209d3edc8188\n",
            "https://www.proquest.com/openview/7898314db50a218b58052ac91e3bde1e/1?\n",
            "https://m.thepaper.cn/baijiahao_23766944\n",
            "https://www.cv-foundation.org/openaccess/content_cvpr_2015/html/Wang_Action_Recognition_With_2015_CVPR_paper.html\n",
            "https://ieeexplore.ieee.org/document/609310\n",
            "https://academic.oup.com/bioinformatics/article/37/15/2112/6128680\n",
            "https://www.hayo.com/article/64f68f1d8578eea6c7ec663f\n",
            "https://ieeexplore.ieee.org/document/1211479\n",
            "https://papers.nips.cc/paper/2003/hash/b427426b8acd2c2e53827970f2c2f526-Abstract.html\n",
            "https://catalog.ngc.nvidia.com/orgs/nvidia/teams/nemo/models/stt_en_conformer_transducer_xlarge\n",
            "https://citeseerx.ist.psu.edu/viewdoc/summary?doi=10.1.1.474.2430\n",
            "https://link.springer.com/chapter/10.1007/978-3-642-15561-1_11\n",
            "https://openaccess.thecvf.com/content_cvpr_2016/html/Feichtenhofer_Convolutional_Two-Stream_Network_CVPR_2016_paper.html\n",
            "https://link.springer.com/article/10.1007/BF00994018\n",
            "https://openreview.net/forum?id=gnRmI8TatHV\n",
            "https://proceedings.neurips.cc/paper/2021/hash/9219adc5c42107c4911e249155320648-Abstract.html\n",
            "/articles/s41586-021-03819-2.pdf\n",
            "https://www.anthropic.com/index/claude-2-1\n",
            "https://huggingface.co/rinna/japanese-gpt-1b\n",
            "https://www.osti.gov/biblio/6910294\n",
            "https://link.springer.com/chapter/10.1007/978-3-031-40498-6_9; https://huggingface.co/NYTK/PULI-GPTrio\n",
            "https://www.sciencedirect.com/science/article/abs/pii/S0893608005001206\n",
            "https://dl.acm.org/doi/10.5555/972470.972474\n",
            "https://papers.nips.cc/paper/2013/hash/1cecc7a77928ca8133fa24680a88d2f9-Abstract.html\n",
            "https://qwenlm.github.io/blog/qwen-vl/\n",
            "https://huggingface.co/IDEA-CCNL/Taiyi-Stable-Diffusion-1B-Chinese-v0.1\n",
            "https://link.springer.com/chapter/10.1007/978-3-319-46493-0_38\n",
            "https://ai.meta.com/research/publications/code-llama-open-foundation-models-for-code/\n",
            "https://dl.acm.org/doi/10.1145/1553374.1553453\n",
            "/articles/s41746-021-00455-y.pdf\n",
            "https://www.science.org/doi/epdf/10.1126/science.adi2336\n",
            "https://www.sciencedirect.com/science/article/pii/S2001037018301466\n",
            "https://research.google/pubs/pub45530/\n",
            "https://cohere.com/models/command\n",
            "https://www.alibabacloud.com/blog/alibaba-cloud-launches-tongyi-qianwen-2-0-and-industry-specific-models-to-support-customers-reap-benefits-of-generative-ai_600526\n",
            "https://github.com/openlm-research/open_llama\n",
            "https://huggingface.co/AI-Sweden-Models/gpt-sw3-40b\n",
            "https://huggingface.co/stockmark/stockmark-13b\n",
            "https://www.gizmochina.com/2023/10/26/iflytek-spark-3-0-vs-openai-gpt/\n",
            "https://dl.acm.org/doi/10.1145/3388440.3412467\n",
            "https://auto-rt.github.io/\n",
            "https://ieeexplore.ieee.org/document/159058\n",
            "https://www.ai21.com/blog/introducing-j2\n",
            "http://proceedings.mlr.press/v123/yan20a.html?ref=https://githubhelp.com\n",
            "https://huggingface.co/Qwen/Qwen-72B\n",
            "https://openreview.net/forum?id=rk8wKk-R-\n",
            "https://openaccess.thecvf.com/content/ICCV2021/html/Ye_Auxiliary_Tasks_and_Exploration_Enable_ObjectGoal_Navigation_ICCV_2021_paper.html\n",
            "https://hal.inria.fr/hal-00830491v2/document\n",
            "https://onlinelibrary.wiley.com/doi/abs/10.1002/rob.20255\n",
            "https://openreview.net/forum?id=H1gX8C4YPr\n",
            "https://huggingface.co/blog/idefics\n",
            "https://ieeexplore.ieee.org/document/6909619\n",
            "https://web.archive.org/web/20220506095925/https://lighton.ai/blog/lighton-publicly-launches-muse-an-api-to-vlm-4-large-language-models-trained-natively-in-five-european-languages/\n",
            "https://link.springer.com/chapter/10.1007/978-3-319-46493-0_38\n",
            "https://www.biorxiv.org/content/10.1101/2020.07.12.199554v3 or \n",
            "https://ieeexplore.ieee.org/stamp/stamp.jsp?tp=&arnumber=9477085\n",
            "https://ieeexplore.ieee.org/document/5197422\n",
            "https://dl.acm.org/doi/10.3115/993268.993313\n",
            "https://aclanthology.org/P02-1038/\n",
            "/articles/s41586-023-06747-5.pdf\n",
            "https://science.sciencemag.org/content/308/5721/523.long\n",
            "https://spectrum.ieee.org/china-chatgpt-wu-dao\n",
            "https://www.databricks.com/blog/2023/04/12/dolly-first-open-commercially-viable-instruction-tuned-llm\n",
            "https://openaccess.thecvf.com/content_CVPR_2019/html/Wu_Sliced_Wasserstein_Generative_Models_CVPR_2019_paper.html\n",
            "https://aitopics.org/doc/classics:504E1BAC/\n",
            "https://hal.archives-ouvertes.fr/hal-00018426/en\n",
            "https://ai.meta.com/research/publications/llama-2-open-foundation-and-fine-tuned-chat-models/\n",
            "https://www.gizmochina.com/2023/08/24/mathgpt-launch-public-beta-next-gen-math-assistant/\n",
            "https://citeseerx.ist.psu.edu/viewdoc/summary?doi=10.1.1.474.2430\n",
            "https://openreview.net/forum?id=ByxY8CNtvr\n",
            "https://aclanthology.org/P17-1018/\n",
            "https://huggingface.co/berkeley-nest/Starling-LM-7B-alpha\n",
            "https://starling.cs.berkeley.edu/\n",
            "https://ieeexplore.ieee.org/document/6795568\n",
            "https://academic.oup.com/bioinformatics/article/38/Supplement_2/ii95/6701995\n",
            "https://www.semanticscholar.org/paper/Improving-regularized-singular-value-decomposition-Paterek/f732d0f69fe4e84a95c32706b28b9e4ef1753c61\n",
            "https://qwenlm.github.io/blog/qwen1.5/\n",
            "https://www.semanticscholar.org/paper/Perceptron-Simulation-Experiments-Rosenblatt/ae76ce1ba27ac29addce4aab93b927e9bc7f7c67\n",
            "https://internlm.org/\n",
            "https://www.prnewswire.com/news-releases/baidu-launches-ernie-4-0-foundation-model-leading-a-new-wave-of-ai-native-applications-301958681.html\n",
            "https://openai.com/blog/dall-e/\n",
            "https://www.deepmind.com/blog/alphastar-grandmaster-level-in-starcraft-ii-using-multi-agent-reinforcement-learning\n",
            "https://ieeexplore.ieee.org/document/650093\n",
            "https://huggingface.co/Deci/DeciCoder-1b\n",
            "https://ieeexplore.ieee.org/document/1454428\n",
            "https://huggingface.co/cyberagent/open-calm-7b\n",
            "https://openreview.net/forum?id=SkFqf0lAZ\n",
            "https://www.sciencedirect.com/science/article/pii/S0042698997001697\n",
            "https://dl.acm.org/doi/10.5555/944919.944966\n",
            "https://paperswithcode.com/paper/self-training-with-noisy-student-improves/review/\n",
            "https://huggingface.co/openai/whisper-large-v2\n",
            "https://research.runwayml.com/gen2\n",
            "https://aws.amazon.com/bedrock/titan/\n",
            "https://link.springer.com/article/10.1007/s00439-021-02411-y\n",
            "https://www.biorxiv.org/content/10.1101/2020.07.12.199554v3\n",
            "https://dl.acm.org/doi/10.1145/1390156.1390294\n",
            "https://www.scirp.org/(S(351jmbntvnsjt1aadkposzje))/reference/ReferencesPapers.aspx?ReferenceID=547230\n",
            "https://huggingface.co/laion/CLIP-ViT-H-14-laion2B-s32B-b79K\n",
            "https://papers.nips.cc/paper/2013/hash/b337e84de8752b27eda3a12363109e80-Abstract.html\n",
            "https://link.springer.com/article/10.1007/BF00337644\n",
            "https://github.com/DeepLangAI/LingoWhale-8B/blob/main/README_EN.md\n",
            "https://github.com/THUDM/CodeGeeX\n",
            "http://research.baidu.com/Blog/index-view?id=160\n",
            "https://link.springer.com/article/10.1007/s11263-013-0620-5\n",
            "https://academic.oup.com/bioinformatics/article/38/8/2102/6502274\n",
            "https://www.nature.com/articles/s41586-019-1923-7\n",
            "https://huggingface.co/BlinkDL/rwkv-4-world\n",
            "https://link.springer.com/chapter/10.1007/978-3-642-35289-8_32\n",
            "https://dl.acm.org/doi/10.1145/192844.192905\n",
            "https://www.jmlr.org/papers/v11/vincent10a.html\n",
            "https://www.yitay.net/blog/flan-ul2-20b, https://arxiv.org/pdf/2205.05131.pdf\n",
            "https://technode.com/2023/08/09/chinese-ai-startup-baichuan-rolls-out-third-llm-in-four-months/\n",
            "https://gitee.com/zidongtaichu/multi-modal-models\n",
            "https://mistral.ai/news/mistral-large/\n",
            "https://ojs.aaai.org/index.php/AAAI/article/view/4440\n",
            "https://docs.aleph-alpha.com/docs/introduction/model-card/\n",
            "https://openai.com/blog/better-language-models/\n",
            "https://ieeexplore.ieee.org/document/1467314\n",
            "https://dl.acm.org/doi/abs/10.1145/1273496.1273596?casa_token=cfdkH2x12MwAAAAA:sEUzfllIGyPcOfzgUoDPHlpC1ukfCAo8ewocBXWBswIIF9eS5HdFo30nOtfmIV8gm-XpBpQJJ5zYVO8\n",
            "https://www.moma.org/collection/works/illustratedbooks/16252?locale=es\n",
            "https://ieeexplore.ieee.org/abstract/document/80266\n",
            "https://ieeexplore.ieee.org/document/23982\n",
            "https://github.com/01-ai/Yi\n",
            "https://www.huaweicloud.com/intl/en-us/news/20230707180809498.html\n",
            "https://ai.meta.com/research/publications/llama-2-open-foundation-and-fine-tuned-chat-models/\n",
            "https://huggingface.co/openai/whisper-large-v3\n",
            "https://link.springer.com/article/10.1007/BF00344251\n",
            "https://arxiv.org/pdf/2310.03744https://huggingface.co/liuhaotian/llava-v1.5-13b.pdf\n",
            "https://magic.dev/blog/ltm-1\n",
            "https://dl.acm.org/doi/10.3115/1073012.1073029\n",
            "https://openreview.net/forum?id=rk8wKk-R-\n",
            "https://aclanthology.org/D18-1237/\n",
            "https://huggingface.co/tiiuae/falcon-7b\n",
            "https://github.com/FlagAI-Open/Aquila2\n",
            "https://ieeexplore.ieee.org/abstract/document/4066245\n",
            "https://ieeexplore.ieee.org/stamp/stamp.jsp?arnumber=9751352\n",
            "/articles/s41467-019-11994-0.pdf\n",
            "https://txt.cohere.com/embed-command-light-fine-tuning-on-amazon-bedrock/\n",
            "https://ieeexplore.ieee.org/document/8100143\n",
            "https://papers.nips.cc/paper/2006/hash/87f4d79e36d68c3031ccf6c55e9bbd39-Abstract.html\n",
            "https://huggingface.co/abeja/gpt-neox-japanese-2.7b, https://tech-blog.abeja.asia/entry/abeja-gpt-project-202207\n",
            "https://ai.meta.com/research/publications/emu-enhancing-image-generation-models-using-photogenic-needles-in-a-haystack/\n",
            "https://dl.acm.org/doi/10.5555/972525.972526\n",
            "https://dl.acm.org/doi/10.1162/089120102760275983\n",
            "https://dl.acm.org/doi/10.1145/1390156.1390256\n",
            "https://ieeexplore.ieee.org/document/8578572\n",
            "https://openaccess.thecvf.com/content_ECCV_2018/html/Yulun_Zhang_Image_Super-Resolution_Using_ECCV_2018_paper.html\n",
            "https://www.eleuther.ai/projects/gpt-neo/\n",
            "/articles/s41467-022-32007-7.pdf\n",
            "https://blogs.umass.edu/brain-wars/files/2016/03/rosenblatt-1957.pdf\n",
            "https://huggingface.co/mosaicml/mpt-30b\n",
            "https://www.science.org/doi/10.1126/science.adg7492\n",
            "https://x.ai/model-card/\n",
            "https://huggingface.co/stabilityai/stable-code-3b\n",
            "https://link.springer.com/article/10.1023/A:1007662407062\n",
            "https://ieeexplore.ieee.org/document/1467360\n",
            "https://www.pnas.org/doi/abs/10.1073/pnas.2016239118\n",
            "https://www.semanticscholar.org/paper/On-learning-the-past-tenses-of-English-verbs%3A-rules-Rumelhart-McClelland/4fa569625b5ab35e955a8d5be11a4aa9f59ca424\n",
            "https://www.nature.com/articles/nature24270.epdf?author_access_token=VJXbVjaSHxFoctQQ4p2k4tRgN0jAjWel9jnR3ZoTv0PVW4gB86EEpGqTRDtpIz-2rmo8-KG06gqVobU5NSCFeHILHcVFUeMsbvwS-lxjqQGg98faovwjxeTUgZAUMnRQ\n",
            "https://science.sciencemag.org/content/350/6266/1332/\n",
            "https://github.com/FlagAI-Open/FlagAI/blob/master/examples/ALM/README.md\n",
            "https://dl.acm.org/doi/10.3115/1073445.1073462\n",
            "https://pandaily.com/bytedance-launches-its-first-large-scale-ai-conversation-product-dou-bao/\n",
            "https://citeseerx.ist.psu.edu/viewdoc/download?doi=10.1.1.71.7388&rep=rep1&type=pdf\n",
            "https://academic.oup.com/bioinformaticsadvances/article/2/1/vbac046/6609807\n",
            "https://huggingface.co/bigscience/bloom\n",
            "https://ieeexplore.ieee.org/abstract/document/4470228\n",
            "https://www.sciencedirect.com/science/article/pii/S0019995877903540\n",
            "https://dl.acm.org/doi/10.1145/1390156.1390303\n",
            "https://www.sciencedirect.com/science/article/abs/pii/0893608089900208\n",
            "https://www.microsoft.com/en-us/research/blog/turing-nlg-a-17-billion-parameter-language-model-by-microsoft/\n",
            "https://www.semanticscholar.org/paper/Dissecting-Contextual-Word-Embeddings%3A-Architecture-Peters-Neumann/ac11062f1f368d97f4c826c317bf50dcc13fdb59\n",
            "https://huggingface.co/xverse/XVERSE-13B\n",
            "http://citeseerx.ist.psu.edu/viewdoc/download?doi=10.1.1.434.4816&rep=rep1&type=pdf\n",
            "https://ieeexplore.ieee.org/document/6707742\n",
            "https://huggingface.co/dalle-mini/dalle-mini\n",
            "https://link.springer.com/protocol/10.1007/978-1-4939-6406-2_6\n",
            "Emerging Properties in Self-Supervised Vision Transformers\n",
            "https://mistral.ai/news/mixtral-of-experts/, https://arxiv.org/pdf/2401.04088.pdf\n",
            "https://ai.meta.com/research/publications/code-llama-open-foundation-models-for-code/\n",
            "https://aclanthology.org/P04-1036/\n",
            "https://dl.acm.org/doi/10.1007/BF00992696\n",
            "https://www.globaltimes.cn/page/202310/1299716.shtml\n",
            "https://dl.acm.org/doi/10.1145/1273496.1273556\n",
            "https://jamanetwork.com/journals/jama/article-abstract/2588763\n",
            "https://www.researchgate.net/publication/228766792_The_BellKor_2008_solution_to_the_Netflix_Prize\n",
            "https://www.researchgate.net/publication/221489926_Recurrent_neural_network_based_language_model\n",
            "https://huggingface.co/nvidia/nemo-megatron-gpt-20B\n",
            "https://direct.mit.edu/neco/article-abstract/9/8/1735/6109/Long-Short-Term-Memory?redirectedFrom=fulltext\n",
            "https://ojs.aaai.org/index.php/AAAI/article/view/11993\n",
            "https://aclanthology.org/2021.naacl-main.41/\n",
            "https://www.cs.toronto.edu/~hinton/science.pdf\n",
            "https://ai.facebook.com/research/data2vec-a-general-framework-for-self-supervised-learning-in-speech-vision-and-language/\n",
            "https://bmcbioinformatics.biomedcentral.com/articles/10.1186/s12859-019-3220-8\n",
            "https://dl.acm.org/doi/10.3115/1118693.1118694\n",
            "https://ieeexplore.ieee.org/document/818041\n",
            "http://www.cs.rhul.ac.uk/~chrisw/thesis.html\n",
            "https://www.biorxiv.org/content/10.1101/2020.07.12.199554v3 or \n",
            "https://ieeexplore.ieee.org/stamp/stamp.jsp?tp=&arnumber=9477085\n",
            "http://research.baidu.com/Blog/index-view?id=185\n",
            "https://www.researchgate.net/publication/221489926_Recurrent_neural_network_based_language_model\n",
            "https://medium.com/syncedreview/chinas-gpt-3-baai-introduces-superscale-intelligence-model-wu-dao-1-0-98a573fc4d70\n",
            "https://openaccess.thecvf.com/content_cvpr_2018/html/Zhang_Residual_Dense_Network_CVPR_2018_paper.html\n",
            "https://aclanthology.org/P12-3029/\n",
            "https://twitter.com/AnthropicAI/status/1648353600350060545?lang=en\n",
            "https://psycnet.apa.org/record/1985-97439-000\n",
            "https://www.nature.com/articles/nature14236\n",
            "EfficientNetV2: Smaller Models and Faster Training\n",
            "https://blog.perplexity.ai/blog/introducing-pplx-online-llms\n",
            "https://docs.nvidia.com/bionemo-framework/0.4.0/models/megamolbart.html, https://github.com/NVIDIA/MegaMolBART\n",
            "https://llava-vl.github.io/blog/2024-01-30-llava-next/https://github.com/haotian-liu/LLaVA/tree/mainhttps://huggingface.co/liuhaotian/llava-v1.6-34b\n",
            "https://cs.nju.edu.cn/wujx/paper/AAAI2023_AFM.pdf\n",
            "https://nlp.stanford.edu/projects/glove/\n",
            "https://dl.acm.org/doi/10.1145/2648584.2648589\n",
            "https://inflection.ai/inflection-2\n",
            "https://huggingface.co/bigscience/bloom-3b#:~:text=Started%2011th%20March%2C%202022%2011,Ended%205th%20July%2C%202022\n",
            "http://citeseerx.ist.psu.edu/viewdoc/download;jsessionid=03A3D3EDF0BAF35405ABCF083411B55E?doi=10.1.1.154.7012&rep=rep1&type=pdf\n",
            "https://ieeexplore.ieee.org/document/7472621\n",
            "https://huggingface.co/cyberagent/calm2-7b\n",
            "https://openai.com/blog/openai-codex/\n",
            "https://www.biorxiv.org/content/10.1101/2023.04.07.536042v1.full\n",
            "https://arankomatsuzaki.wordpress.com/2021/06/04/gpt-j/\n",
            "https://medium.com/@sdatokens/china-unicom-released-a-graphic-model-that-can-realize-with-text-pictures-video-clips-llm-ai-d50afd965a5b\n",
            "https://ieeexplore.ieee.org/abstract/document/4587597\n",
            "https://ieeexplore.ieee.org/document/5947611\n",
            "https://www.lighton.ai/blog/lighton-s-blog-4/lighton-s-large-language-model-of-40-billion-parameters-mini-19\n",
            "https://dl.acm.org/doi/10.1145/1455292.1455309\n",
            "https://x.ai/\n",
            "https://techcrunch.com/2023/11/08/samsung-unveils-chatgpt-alternative-samsung-gauss-that-can-generate-text-code-and-images/\n",
            "https://blog.google/products/search/introducing-mum/\n",
            "https://reader.elsevier.com/reader/sd/pii/S0957417402000520?token=155B6D1937982D7D0271AFD1CFB034DFD7F3D1DE816B66C025EBC9D0A305BA6DA685DD62989DC05246C794CAC74CDAEF&originRegion=us-east-1&originCreation=20220325235441\n",
            "https://www.sciencedirect.com/science/article/pii/S0031320304000524\n",
            "https://dl.acm.org/doi/10.5555/3104322.3104425\n",
            "https://www.nature.com/articles/s41586-023-06185-3, https://www.huaweicloud.com/intl/en-us/news/20230707180809498.html,\n",
            "https://www.huawei.com/en/news/2023/7/pangu-ai-model-nature-publish\n",
            "https://huggingface.co/rinna/bilingual-gpt-neox-4b\n",
            "https://ieeexplore.ieee.org/abstract/document/6756960\n",
            "https://dl.acm.org/doi/10.3115/981658.981684\n",
            "https://huggingface.co/Writer/palmyra-large\n",
            "https://www.microsoft.com/en-us/research/publication/achieving-human-parity-on-automatic-chinese-to-english-news-translation/\n",
            "https://note.com/peter_lightblue/n/ne08a7c8cc47a, https://huggingface.co/lightblue/qarasu-14B-chat-plus-unleashed\n",
            "https://dl.acm.org/doi/10.5555/2976456.2976476\n",
            "https://www.biorxiv.org/content/10.1101/2022.01.27.478087v1.full\n",
            "https://ieeexplore.ieee.org/document/655647\n",
            "https://jdcorporateblog.com/jd-com-introduces-chatrhino-empowering-industry-innovations-with-an-advanced-large-language-model/\n",
            "https://openaccess.thecvf.com/content_CVPR_2019/html/Fu_Dual_Attention_Network_for_Scene_Segmentation_CVPR_2019_paper.html\n",
            "https://mp.weixin.qq.com/s/DAQomIkDa52Sef-ruyH5qg\n",
            "https://www.aclweb.org/anthology/P07-1121/\n",
            "https://www.researchgate.net/profile/Yikang-Shen-2/publication/318830618_Exploration_of_Tree-based_Hierarchical_Softmax_for_Recurrent_Language_Models/links/5b2c050aa6fdcc8506bc6f4a/Exploration-of-Tree-based-Hierarchical-Softmax-for-Recurrent-Language-Models.pdf\n",
            "https://link.springer.com/chapter/10.1007/978-3-319-46493-0_22\n",
            "https://huggingface.co/LumiOpen/Poro-34B\n",
            "https://dl.acm.org/doi/10.1145/1864708.1864770\n",
            "https://www.pnas.org/doi/10.1073/pnas.79.8.2554\n",
            "https://aclanthology.org/P09-1010/\n",
            "https://lmsys.org/blog/2023-03-30-vicuna/\n",
            "https://huggingface.co/fnlp/moss-moon-003-base\n",
            "https://proceedings.mlr.press/v9/glorot10a.html\n",
            "https://www.biorxiv.org/content/10.1101/2022.07.21.500999v1\n",
            "https://ieeexplore.ieee.org/abstract/document/7839189\n",
            "https://huggingface.co/internlm/internlm2-20b\n",
            "https://www.adept.ai/blog/persimmon-8b\n",
            "https://aclanthology.org/P05-1033/\n",
            "https://proceedings.mlr.press/v32/graves14.html\n",
            "http://citeseerx.ist.psu.edu/viewdoc/download;jsessionid=03A3D3EDF0BAF35405ABCF083411B55E?doi=10.1.1.154.7012&rep=rep1&type=pdf\n",
            "https://grail.cs.washington.edu/rome/\n",
            "https://www.science.org/doi/abs/10.1126/science.ade2574\n",
            "https://ieeexplore.ieee.org/abstract/document/21701\n",
            "https://www.anthropic.com/index/claude-2, https://www-files.anthropic.com/production/images/Model-Card-Claude-2.pdf\n",
            "https://stability.wandb.io/stability-llm/stable-lm/reports/StableLM-3B-4E1T--VmlldzoyMjU4?accessToken=u3zujipenkx5g7rtcj9qojjgxpconyjktjkli2po09nffrffdhhchq045vp0wyfo\n",
            "https://link.springer.com/chapter/10.1007/978-3-642-48650-0_19\n",
            "https://proceedings.neurips.cc/paper/2007/hash/4b0250793549726d5c1ea3906726ebfe-Abstract.html\n",
            "https://aws.amazon.com/solutions/case-studies/lg-ai-research-case-study/\n",
            "https://link.springer.com/article/10.1007%2FBF00342633\n",
            "https://huggingface.co/togethercomputer/RedPajama-INCITE-7B-Base\n",
            "https://deepmind.com/blog/article/generally-capable-agents-emerge-from-open-ended-play\n",
            "https://www.prnewswire.com/news-releases/dahua-announces-think-2-0-strategy-to-accelerate-innovation-for-a-digital-intelligent-future-301967122.html\n",
            "https://aws.amazon.com/blogs/machine-learning/introducing-amazon-codewhisperer-the-ml-powered-coding-companion/\n",
            "https://www.science.org/cms/asset/910714a7-ee2a-486e-9970-42fb893b08d9/pap.pdf\n",
            "https://github.com/kwai/KwaiYii\n",
            "https://en.wikipedia.org/wiki/Stochastic_neural_analog_reinforcement_calculator\n",
            "https://www.researchgate.net/publication/228419683_The_bigchaos_solution_to_the_netflix_prize_2008\n",
            "https://ai.meta.com/research/publications/code-llama-open-foundation-models-for-code/\n",
            "https://proceedings.neurips.cc/paper/2012/hash/c399862d3b9d6b76c8436e924a68c45b-Abstract.html\n",
            "https://www.researchgate.net/publication/320473480_Mastering_the_game_of_Go_without_human_knowledge\n",
            "https://ieeexplore.ieee.org/document/1640964\n",
            "https://www.biorxiv.org/content/10.1101/2023.07.05.547496v1\n",
            "https://www.microsoft.com/en-us/research/blog/make-every-feature-binary-a-135b-parameter-sparse-neural-network-for-massively-improved-search-relevance/\n",
            "https://www.chinadaily.com.cn/a/202307/28/WS64c3226ea31035260b8190a4.html\n",
            "https://huggingface.co/matsuo-lab/weblab-10b\n",
            "https://ai.facebook.com/research/data2vec-a-general-framework-for-self-supervised-learning-in-speech-vision-and-language/\n",
            "https://ieeexplore.ieee.org/document/5539963\n",
            "https://github.com/openai/consistencydecoder\n",
            "https://aclanthology.org/P09-1010/\n",
            "https://techcrunch.com/2023/08/24/koreas-internet-giant-naver-unveils-generative-ai-services/, https://www.ncloud.com/solution/featured/hyperclovax\n",
            "http://proceedings.mlr.press/v15/coates11a.html\n",
            "https://huggingface.co/togethercomputer/StripedHyena-Hessian-7B\n",
            "https://github.com/togethercomputer/stripedhyena\n",
            "https://github.com/RUC-GSAI/YuLan-Chat\n",
            "https://www.arxiv-vanity.com/papers/2104.05158/\n",
            "https://openreview.net/pdf?id=yfe1VMYAXa4\n",
            "https://ai.facebook.com/blog/democratizing-access-to-large-scale-language-models-with-opt-175b/\n",
            "https://dl.acm.org/doi/10.5555/3104322.3104425\n",
            "https://www.researchgate.net/publication/220648006_Stanley_The_robot_that_won_the_DARPA_Grand_Challenge\n",
            "https://onlinelibrary.wiley.com/doi/10.1002/prot.25798\n",
            "https://dl.acm.org/doi/10.1145/1455292.1455310\n",
            "https://www.aclweb.org/anthology/P06-1101/\n",
            "https://aclanthology.org/D11-1014/\n",
            "https://www.technologyreview.com/2018/12/19/138508/mighty-mouse/\n",
            "https://developer.nvidia.com/blog/nvidia-ai-foundation-models-build-custom-enterprise-chatbots-and-co-pilots-with-production-ready-llms/\n",
            "https://github.com/Nanbeige/Nanbeige/blob/main/README_EN.md\n",
            "https://dl.acm.org/doi/abs/10.1145/3503221.3508417\n",
            "https://github.com/xverse-ai/XVERSE-65B/blob/main/README_EN.md\n",
            "https://ieeexplore.ieee.org/document/5539957\n",
            "https://medium.com/syncedreview/chinas-gpt-3-baai-introduces-superscale-intelligence-model-wu-dao-1-0-98a573fc4d70\n",
            "https://www.semanticscholar.org/paper/Self-play-Monte-Carlo-tree-search-in-computer-poker-Heinrich-Silver/7b687599b4425aa959036071030e1212a3b359c7\n",
            "https://link.springer.com/chapter/10.1007/978-3-642-40763-5_51\n",
            "https://keg.cs.tsinghua.edu.cn/glm-130b/posts/glm-130b/\n",
            "https://huggingface.co/stabilityai/stablelm-2-1_6b\n",
            "https://huggingface.co/dalle-mini/dalle-mega\n",
            "https://github.com/borisdayma/dalle-mini\n",
            "https://science.sciencemag.org/content/331/6014/176\n",
            "https://www.semanticscholar.org/paper/The-BellKor-solution-to-the-Netflix-Prize-Bell-Koren/f4ebb542c752a0dc423f94fd121e2edb8f6275ba\n",
            "https://link.springer.com/chapter/10.1007/978-3-319-46484-8_29\n",
            "https://www.ai21.com/blog/jurassic-x-crossing-the-neuro-symbolic-chasm-with-the-mrkl-system\n",
            "https://ieeexplore.ieee.org/document/6795724\n",
            "https://www.nowpublishers.com/article/Details/MAL-006\n",
            "/articles/s41586-023-06735-9.pdf\n",
            "https://ieeexplore.ieee.org/document/6909616\n",
            "https://www.engadget.com/chinas-gigantic-multi-modal-ai-is-no-one-trick-pony-211414388.html\n",
            "https://ieeexplore.ieee.org/abstract/document/5392560\n",
            "https://github.com/TigerResearch/TigerBot/blob/main/README_en.md, https://arxiv.org/pdf/2312.08688.pdf\n",
            "https://www.graphcore.ai/posts/graphcore-and-aleph-alpha-demonstrate-80-sparsified-ai-model\n",
            "https://projecteuclid.org/journals/annals-of-statistics/volume-29/issue-5/Greedy-function-approximation-A-gradient-boostingmachine/10.1214/aos/1013203451.full\n",
            "https://blog.research.google/2019/10/exploring-massively-multilingual.html\n",
            "https://direct.mit.edu/tacl/article/doi/10.1162/tacl_a_00371/100688/Adaptive-Semiparametric-Language-Models\n",
            "https://www.sciencedirect.com/science/article/abs/pii/S0262885604000721\n",
            "https://www.researchgate.net/publication/252919025_STELLA_A_scheme_for_a_learning_machine\n",
            "https://news.adobe.com/news/news-details/2023/Adobe-Unveils-Firefly-a-Family-of-new-Creative-Generative-AI/default.aspx\n",
            "https://www.science.org/doi/10.1126/science.ade9097\n",
            "https://blog.salesforceairesearch.com/codegen25/\n",
            "https://github.com/EleutherAI/gpt-neo\n",
            "https://ieeexplore.ieee.org/stamp/stamp.jsp?tp=&arnumber=6313077\n",
            "https://aclanthology.org/P15-1151/\n",
            "https://academic.oup.com/bioinformaticsadvances/article/2/1/vbac023/6564689\n",
            "https://www.adept.ai/blog/fuyu-8b, www.huggingface.co/adept/fuyu-8b\n",
            "https://www.tii.ae/news/abu-dhabi-based-technology-innovation-institute-introduces-falcon-llm-foundational-large\n",
            "https://imagen.research.google/\n",
            "https://www.researchgate.net/publication/220885651_Designing_Neural_Networks_using_Genetic_Algorithms\n",
            "https://m.aastocks.com/en/usq/news/comment.aspx?source=AAFN&id=NOW.1317044&catg=1\n",
            "https://www.mosaicml.com/blog/mpt-7b\n",
            "https://www.semanticscholar.org/paper/Learning-representations-by-back-propagating-errors-Rumelhart-Hinton/052b1d8ce63b07fec3de9dbb583772d860b7c769\n",
            "/articles/s41586-023-06419-4.pdf\n",
            "https://huggingface.co/Deci/DeciLM-6b\n",
            "https://www.cv-foundation.org/openaccess/content_cvpr_2015/html/Ng_Beyond_Short_Snippets_2015_CVPR_paper.html\n",
            "https://www.nature.com/articles/s41586-021-04043-8#change-history\n",
            "https://research.facebook.com/publications/no-language-left-behind/\n",
            "https://openai.com/blog/new-models-and-developer-products-announced-at-devday\n",
            "https://medium.com/syncedreview/chinas-gpt-3-baai-introduces-superscale-intelligence-model-wu-dao-1-0-98a573fc4d70\n",
            "https://platform.openai.com/docs/models/gpt-3-5\n",
            "https://dl.acm.org/doi/10.1007/BF00114844\n",
            "https://huggingface.co/stabilityai/StableBeluga1-Delta\n",
            "https://dl.acm.org/doi/10.5555/1953048.2021068\n",
            "https://dl.acm.org/doi/10.5555/3157096.3157346\n",
            "https://medium.com/yandex/yandex-publishes-yalm-100b-its-the-largest-gpt-like-neural-network-in-open-source-d1df53d0e9a6\n",
            "https://www.semanticscholar.org/paper/Further-experiments-with-PAPA-Gamba-Gamberini/c3a20b9aa86033cec29f08e69f4bc81e8b329ae2\n",
            "https://www.science.org/stoken/author-tokens/ST-887/full\n",
            "https://github.com/FlagAlpha/Llama2-Chinese\n",
            "https://www.biorxiv.org/content/10.1101/2023.10.09.561603v1\n",
            "https://nlp.stanford.edu/projects/glove/\n",
            "https://www.ibm.com/downloads/cas/X9W4O6BM\n",
            "https://arxiv.org/pdf\n",
            "/2209.10372.pdf\n",
            "https://ieeexplore.ieee.org/document/58323\n",
            "https://ieeexplore.ieee.org/abstract/document/668817\n",
            "https://aclanthology.org/2021.emnlp-main.685/\n",
            "https://www.nature.com/articles/nature20101\n",
            "https://www.nature.com/articles/nature16961\n",
            "https://www.anthropic.com/news/releasing-claude-instant-1-2\n",
            "https://ieeexplore.ieee.org/document/698586\n",
            "https://ieeexplore.ieee.org/document/598994\n",
            "https://huggingface.co/baichuan-inc/Baichuan2-13B-Base, https://arxiv.org/pdf/2309.10305.pdf\n",
            "https://github.com/vivo-ai-lab/BlueLM\n",
            "https://openaccess.thecvf.com/content_CVPR_2020/html/Tan_EfficientDet_Scalable_and_Efficient_Object_Detection_CVPR_2020_paper.html\n",
            "https://www.nature.com/articles/s42256-021-00310-5\n",
            "https://www.zhipuai.cn/en/news/76\n",
            "https://ieeexplore.ieee.org/stamp/stamp.jsp?tp=&arnumber=4767851\n",
            "https://txt.cohere.com/introducing-embed-v3/\n",
            "https://ieeexplore.ieee.org/document/861302\n",
            "https://openai.com/research/dota-2\n",
            "https://openai.com/research/image-gpt\n",
            "https://ieeexplore.ieee.org/document/6737243\n",
            "https://link.springer.com/chapter/10.1007/978-3-319-46484-8_2\n",
            "https://www.sciencedirect.com/topics/computer-science/deep-boltzmann-machine\n",
            "https://ieeexplore.ieee.org/document/1227801\n",
            "https://huggingface.co/Deci/DeciCoder-6B\n",
            "https://group.ntt/en/magazine/blog/tsuzumi/\n"
          ]
        },
        {
          "output_type": "stream",
          "name": "stderr",
          "text": [
            "\n"
          ]
        }
      ]
    },
    {
      "cell_type": "code",
      "source": [],
      "metadata": {
        "id": "MR_hmCgyVoVe"
      },
      "execution_count": null,
      "outputs": []
    },
    {
      "cell_type": "markdown",
      "source": [
        "# Convert PDFs to text"
      ],
      "metadata": {
        "id": "vH5ffaLQnePr"
      }
    },
    {
      "cell_type": "code",
      "source": [
        "from google.colab import drive\n",
        "from tqdm import tqdm\n",
        "from PyPDF2 import PdfReader\n",
        "import os\n",
        "\n",
        "drive.mount('/content/drive')\n",
        "\n",
        "def convert_pdfs_to_text(pdf_folder='pdfs/', text_folder='/content/drive/My Drive/TextPapers/'):\n",
        "    \"\"\"Convert PDFs in a folder to text files.\"\"\"\n",
        "    # Create the destination folder in Google Drive if it doesn't exist\n",
        "    os.makedirs(text_folder, exist_ok=True)\n",
        "    for pdf_file in tqdm(os.listdir(pdf_folder)):\n",
        "        if pdf_file.endswith('.pdf'):\n",
        "            try:\n",
        "                reader = PdfReader(f\"{pdf_folder}{pdf_file}\")\n",
        "                text = \"\"\n",
        "                for page in reader.pages:\n",
        "                    text += page.extract_text() + \"\\n\"\n",
        "                text_file = pdf_file.replace('.pdf', '.txt')\n",
        "                with open(f\"{text_folder}{text_file}\", 'w', encoding='utf-8') as f:\n",
        "                    f.write(text)\n",
        "            except Exception as e:\n",
        "                print(f\"Error processing {pdf_file}: {e}\")\n",
        "\n",
        "# Convert PDFs to text\n",
        "convert_pdfs_to_text()"
      ],
      "metadata": {
        "id": "oHybWjKg6Wn9",
        "colab": {
          "base_uri": "https://localhost:8080/"
        },
        "outputId": "3fc05e9d-cace-4801-96ce-53bc9e4d4997"
      },
      "execution_count": 5,
      "outputs": [
        {
          "output_type": "stream",
          "name": "stdout",
          "text": [
            "Mounted at /content/drive\n"
          ]
        },
        {
          "output_type": "stream",
          "name": "stderr",
          "text": [
            "  1%|          | 8/758 [00:12<16:13,  1.30s/it]"
          ]
        },
        {
          "output_type": "stream",
          "name": "stdout",
          "text": [
            "Error processing CODEFUSION (Python).pdf: EOF marker not found\n"
          ]
        },
        {
          "output_type": "stream",
          "name": "stderr",
          "text": [
            "  2%|▏         | 13/758 [00:18<21:59,  1.77s/it]"
          ]
        },
        {
          "output_type": "stream",
          "name": "stdout",
          "text": [
            "Error processing Context-dependent RNN.pdf: EOF marker not found\n"
          ]
        },
        {
          "output_type": "stream",
          "name": "stderr",
          "text": [
            "  2%|▏         | 17/758 [00:21<14:19,  1.16s/it]"
          ]
        },
        {
          "output_type": "stream",
          "name": "stdout",
          "text": [
            "Error processing Libratus.pdf: EOF marker not found\n"
          ]
        },
        {
          "output_type": "stream",
          "name": "stderr",
          "text": [
            " 63%|██████▎   | 477/758 [10:33<05:27,  1.16s/it]"
          ]
        },
        {
          "output_type": "stream",
          "name": "stdout",
          "text": [
            "Error processing RNN+LDA+KN5+cache.pdf: EOF marker not found\n"
          ]
        },
        {
          "output_type": "stream",
          "name": "stderr",
          "text": [
            "100%|██████████| 758/758 [16:08<00:00,  1.28s/it]\n"
          ]
        }
      ]
    },
    {
      "cell_type": "code",
      "source": [
        "from tqdm import tqdm\n",
        "from collections import Counter\n",
        "from nltk.corpus import stopwords\n",
        "import spacy\n",
        "import os\n",
        "import matplotlib.pyplot as plt\n",
        "import wordninja\n",
        "\n",
        "# Load the English tokenizer, tagger, parser, NER, and word vectors\n",
        "nlp = spacy.load(\"en_core_web_sm\")\n",
        "\n",
        "def is_real_word(word):\n",
        "    \"\"\"Checks if a word is a real word by splitting it and checking if the split parts are in the English dictionary.\"\"\"\n",
        "    split_words = wordninja.split(word)\n",
        "    return all(split_word in nlp.vocab for split_word in split_words)\n",
        "\n",
        "def perform_keyword_analysis(text_folder='/content/drive/My Drive/TextPapers/'):\n",
        "    \"\"\"Perform keyword analysis on text files, using lemmatization to reduce words to their base form and excluding non-real words.\"\"\"\n",
        "    stop_words = set(stopwords.words('english')).union({'et', 'al'})\n",
        "    keyword_counts = Counter()\n",
        "    for text_file in tqdm(os.listdir(text_folder)):\n",
        "        if text_file.endswith('.txt'):\n",
        "            with open(f\"{text_folder}{text_file}\", 'r', encoding='utf-8') as f:\n",
        "                text = f.read().lower()\n",
        "                doc = nlp(text)\n",
        "                lemmas = [token.lemma_ for token in doc if token.lemma_ not in stop_words and len(token.lemma_) > 1 and not token.lemma_.startswith('/') and not token.lemma_.isdigit()]\n",
        "                filtered_lemmas = [lemma for lemma in lemmas if is_real_word(lemma)]\n",
        "                keyword_counts.update(filtered_lemmas)\n",
        "    total_keywords = len(keyword_counts)\n",
        "    return keyword_counts.most_common(), total_keywords\n",
        "\n",
        "keyword_analysis, total_keywords = perform_keyword_analysis()\n",
        "top_keywords = keyword_analysis[:10]\n",
        "print(f\"Top 10 keywords: {top_keywords}\")\n",
        "print(f\"Total number of unique keywords assessed: {total_keywords}\")\n",
        "\n",
        "# Create a bar plot for the top keywords\n",
        "keywords, counts = zip(*top_keywords)\n",
        "plt.figure(figsize=(12, 8))\n",
        "plt.bar(keywords, counts)\n",
        "plt.xlabel('Keywords')\n",
        "plt.ylabel('Frequency')\n",
        "plt.title('Top 10 Keywords in All Papers')\n",
        "plt.xticks(rotation=45)\n",
        "plt.show()\n",
        "\n"
      ],
      "metadata": {
        "id": "tyENtHd36bRT",
        "colab": {
          "base_uri": "https://localhost:8080/",
          "height": 869
        },
        "outputId": "8f74adb3-87c3-445c-ed23-7d185288ea91"
      },
      "execution_count": 6,
      "outputs": [
        {
          "output_type": "stream",
          "name": "stderr",
          "text": [
            "/usr/local/lib/python3.10/dist-packages/spacy/util.py:1740: UserWarning: [W111] Jupyter notebook detected: if using `prefer_gpu()` or `require_gpu()`, include it in the same cell right before `spacy.load()` to ensure that the model is loaded on the correct device. More information: http://spacy.io/usage/v3#jupyter-notebook-gpu\n",
            "  warnings.warn(Warnings.W111)\n",
            "100%|██████████| 754/754 [23:55<00:00,  1.90s/it]\n"
          ]
        },
        {
          "output_type": "stream",
          "name": "stdout",
          "text": [
            "Top 10 keywords: [('model', 78186), ('use', 42882), ('training', 28528), ('language', 27349), ('task', 23502), ('train', 20948), ('image', 19266), ('network', 19247), ('dataset', 18421), ('result', 18229)]\n",
            "Total number of unique keywords assessed: 266872\n"
          ]
        },
        {
          "output_type": "display_data",
          "data": {
            "text/plain": [
              "<Figure size 1200x800 with 1 Axes>"
            ],
            "image/png": "[encoded data removed]"
          },
          "metadata": {}
        }
      ]
    },
    {
      "cell_type": "markdown",
      "source": [
        "# Keyword Extraction over time\n",
        "\n",
        "Question: What is the frequency of the top keywords over time?"
      ],
      "metadata": {
        "id": "xa9lWcInII12"
      }
    },
    {
      "cell_type": "code",
      "source": [
        "from google.colab import drive\n",
        "drive.mount('/content/drive')\n",
        "\n",
        "!pip install fuzzywuzzy[speedup]\n",
        "import pandas as pd\n",
        "import os\n",
        "from collections import Counter\n",
        "import spacy\n",
        "from nltk.corpus import stopwords\n",
        "import nltk\n",
        "from fuzzywuzzy import process\n",
        "import matplotlib.pyplot as plt\n",
        "import wordninja\n",
        "\n",
        "nltk.download('stopwords')\n",
        "\n",
        "nlp = spacy.load(\"en_core_web_sm\")\n",
        "\n",
        "stop_words = set(stopwords.words('english')).union({'et', 'al'})\n",
        "\n",
        "def is_real_word(word):\n",
        "    \"\"\"Checks if a word is a real word by splitting it and checking if the split parts are in the English dictionary.\"\"\"\n",
        "    split_words = wordninja.split(word)\n",
        "    return all(split_word in nlp.vocab for split_word in split_words)\n",
        "\n",
        "def perform_keyword_analysis(text):\n",
        "    \"\"\"Performs keyword analysis on text, using lemmatization and excluding stopwords and non-real words.\"\"\"\n",
        "    nlp.max_length = len(text) + 10000\n",
        "    doc = nlp(text)\n",
        "    lemmas = [token.lemma_.lower() for token in doc if token.lemma_ not in stop_words and token.pos_ != 'PUNCT' and not token.lemma_.isdigit() and len(token.lemma_) > 1 and not token.lemma_.startswith('/')]\n",
        "    filtered_lemmas = [lemma for lemma in lemmas if is_real_word(lemma)]\n",
        "    lemma_freq = Counter(filtered_lemmas)\n",
        "    return lemma_freq.most_common()\n",
        "\n",
        "def find_best_match(name, choices, threshold=80):\n",
        "    \"\"\"Gets the best match for a given name from a list of choices, with a minimum similarity threshold.\"\"\"\n",
        "    match = process.extractOne(name, choices)\n",
        "    if match:\n",
        "        best_match, score, _ = match\n",
        "        if score >= threshold:\n",
        "            return best_match\n",
        "    return None\n",
        "\n",
        "pcd_dataset = pd.read_csv(\"https://epochai.org/data/epochdb/all_systems.csv\")\n",
        "\n",
        "# Step 1: Get publication year\n",
        "pcd_dataset['Publication Year'] = pd.to_datetime(pcd_dataset['Publication date']).dt.year\n",
        "\n",
        "# Preprocess the System names in the dataset\n",
        "processed_system_names = pcd_dataset['System'].str.lower().str.replace(' ', '_').str.replace('-', '_').str.replace('/', '_')\n",
        "\n",
        "# Step 2: Group text files by publication year\n",
        "text_files_by_year = {}\n",
        "text_folder = '/content/drive/My Drive/TextPapers/'\n",
        "for text_file in os.listdir(text_folder):\n",
        "    article_name = text_file.replace('.txt', '').replace('_', ' ')\n",
        "    best_match = find_best_match(article_name, processed_system_names)\n",
        "    if best_match is None:\n",
        "        print(f\"Warning: No matching entry found in dataset for text file '{text_file}'\")\n",
        "        continue\n",
        "    year = pcd_dataset[processed_system_names == best_match]['Publication Year'].values[0]\n",
        "    if year not in text_files_by_year:\n",
        "        text_files_by_year[year] = []\n",
        "    with open(f'{text_folder}{text_file}', 'r', encoding='utf-8') as f:\n",
        "        text_content = f.read()\n",
        "        text_files_by_year[year].append(text_content)\n",
        "\n",
        "# Step 3: Keyword analysis for each year\n",
        "keywords_by_year = {}\n",
        "papers_count_by_year = {}\n",
        "for year, texts in text_files_by_year.items():\n",
        "    all_text = ' '.join(texts)\n",
        "    keywords_by_year[year] = perform_keyword_analysis(all_text)\n",
        "    papers_count_by_year[year] = len(texts)\n",
        "\n",
        "# Identify the top 10 keywords across all years\n",
        "all_keywords_freq = Counter()\n",
        "for year, keywords in keywords_by_year.items():\n",
        "    all_keywords_freq.update(dict(keywords))\n",
        "top_10_keywords = [keyword for keyword, _ in all_keywords_freq.most_common(10)]\n",
        "\n",
        "# Track the frequency of the top 10 keywords over each year\n",
        "top_keywords_freq_by_year = {year: {keyword: 0 for keyword in top_10_keywords} for year in sorted(keywords_by_year.keys())}\n",
        "for year, keywords in keywords_by_year.items():\n",
        "    year_keywords_freq = dict(keywords)\n",
        "    for keyword in top_10_keywords:\n",
        "        top_keywords_freq_by_year[year][keyword] = year_keywords_freq.get(keyword, 0)\n",
        "\n",
        "# Plot the frequency of the top 10 keywords over time\n",
        "plt.figure(figsize=(12, 8))\n",
        "for keyword in top_10_keywords:\n",
        "    plt.plot(list(top_keywords_freq_by_year.keys()), [top_keywords_freq_by_year[year][keyword] for year in sorted(top_keywords_freq_by_year.keys())], label=keyword)\n",
        "plt.xlabel('Year')\n",
        "plt.ylabel('Frequency')\n",
        "plt.title('Frequency of Top 10 Keywords Over Time')\n",
        "plt.legend()\n",
        "plt.grid(True)\n",
        "plt.show()\n",
        "\n",
        "# Print total papers analyzed\n",
        "total_papers_analyzed = sum(papers_count_by_year.values())\n",
        "print(f\"Total papers analyzed: {total_papers_analyzed}\")\n",
        "\n",
        "# Print papers analyzed per year\n",
        "for year, count in papers_count_by_year.items():\n",
        "    print(f\"Year {year}: {count} papers analyzed\")\n",
        "\n"
      ],
      "metadata": {
        "colab": {
          "base_uri": "https://localhost:8080/",
          "height": 1000
        },
        "id": "HD2smlI9iLfp",
        "outputId": "65b3dea3-d037-43a9-fd01-b70ddd300d99"
      },
      "execution_count": 4,
      "outputs": [
        {
          "output_type": "stream",
          "name": "stdout",
          "text": [
            "Drive already mounted at /content/drive; to attempt to forcibly remount, call drive.mount(\"/content/drive\", force_remount=True).\n",
            "Requirement already satisfied: fuzzywuzzy[speedup] in /usr/local/lib/python3.10/dist-packages (0.18.0)\n",
            "Requirement already satisfied: python-levenshtein>=0.12 in /usr/local/lib/python3.10/dist-packages (from fuzzywuzzy[speedup]) (0.25.0)\n",
            "Requirement already satisfied: Levenshtein==0.25.0 in /usr/local/lib/python3.10/dist-packages (from python-levenshtein>=0.12->fuzzywuzzy[speedup]) (0.25.0)\n",
            "Requirement already satisfied: rapidfuzz<4.0.0,>=3.1.0 in /usr/local/lib/python3.10/dist-packages (from Levenshtein==0.25.0->python-levenshtein>=0.12->fuzzywuzzy[speedup]) (3.6.2)\n"
          ]
        },
        {
          "output_type": "stream",
          "name": "stderr",
          "text": [
            "[nltk_data] Downloading package stopwords to /root/nltk_data...\n",
            "[nltk_data]   Package stopwords is already up-to-date!\n",
            "/usr/local/lib/python3.10/dist-packages/spacy/util.py:1740: UserWarning: [W111] Jupyter notebook detected: if using `prefer_gpu()` or `require_gpu()`, include it in the same cell right before `spacy.load()` to ensure that the model is loaded on the correct device. More information: http://spacy.io/usage/v3#jupyter-notebook-gpu\n",
            "  warnings.warn(Warnings.W111)\n"
          ]
        },
        {
          "output_type": "stream",
          "name": "stdout",
          "text": [
            "Warning: No matching entry found in dataset for text file 'NÜWA.txt'\n",
            "Warning: No matching entry found in dataset for text file 'VALL-E X.txt'\n",
            "Warning: No matching entry found in dataset for text file 'M6-T.txt'\n",
            "Warning: No matching entry found in dataset for text file 'A3C FF hs.txt'\n",
            "Warning: No matching entry found in dataset for text file 'R-CNN (T-net).txt'\n",
            "Warning: No matching entry found in dataset for text file 'ViT-G_14.txt'\n",
            "Warning: No matching entry found in dataset for text file '4-gram + 8 DENN.txt'\n",
            "Warning: No matching entry found in dataset for text file 'ViT-G_14 (LiT).txt'\n",
            "Warning: No matching entry found in dataset for text file 'Flan T5-XXL + BLIP-2.txt'\n"
          ]
        },
        {
          "output_type": "display_data",
          "data": {
            "text/plain": [
              "<Figure size 1200x800 with 1 Axes>"
            ],
            "image/png": "[encoded data removed]"
          },
          "metadata": {}
        }
      ]
    }
  ]
}