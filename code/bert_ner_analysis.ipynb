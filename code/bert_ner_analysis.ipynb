{
 "cells": [
  {
   "cell_type": "code",
   "execution_count": 1,
   "metadata": {},
   "outputs": [
    {
     "name": "stderr",
     "output_type": "stream",
     "text": [
      "/Users/anatrisovic/Projects/.venv/lib/python3.12/site-packages/tqdm/auto.py:21: TqdmWarning: IProgress not found. Please update jupyter and ipywidgets. See https://ipywidgets.readthedocs.io/en/stable/user_install.html\n",
      "  from .autonotebook import tqdm as notebook_tqdm\n"
     ]
    }
   ],
   "source": [
    "from transformers import pipeline\n",
    "import tqdm\n",
    "from utils.data_cleaning import get_text_before_introduction\n",
    "from utils.file_manager import get_folder_content\n",
    "\n",
    "# reload modules\n",
    "%load_ext autoreload\n",
    "%autoreload 2"
   ]
  },
  {
   "cell_type": "code",
   "execution_count": 2,
   "metadata": {},
   "outputs": [
    {
     "name": "stderr",
     "output_type": "stream",
     "text": [
      "Some weights of the model checkpoint at dbmdz/bert-large-cased-finetuned-conll03-english were not used when initializing BertForTokenClassification: ['bert.pooler.dense.bias', 'bert.pooler.dense.weight']\n",
      "- This IS expected if you are initializing BertForTokenClassification from the checkpoint of a model trained on another task or with another architecture (e.g. initializing a BertForSequenceClassification model from a BertForPreTraining model).\n",
      "- This IS NOT expected if you are initializing BertForTokenClassification from the checkpoint of a model that you expect to be exactly identical (initializing a BertForSequenceClassification model from a BertForSequenceClassification model).\n"
     ]
    }
   ],
   "source": [
    "# Load a NER pipeline from Hugging Face\n",
    "ner_pipeline = pipeline(\n",
    "    \"ner\", \n",
    "    model=\"dbmdz/bert-large-cased-finetuned-conll03-english\", \n",
    "    tokenizer=\"dbmdz/bert-large-cased-finetuned-conll03-english\"\n",
    "    )"
   ]
  },
  {
   "cell_type": "code",
   "execution_count": 4,
   "metadata": {},
   "outputs": [],
   "source": [
    "file_path = \"../Markdown\"\n",
    "txt_files = get_folder_content(file_path, '.mmd')\n",
    "\n",
    "# Take only the first 10 files for testing\n",
    "txt_files = txt_files[:10]"
   ]
  },
  {
   "cell_type": "code",
   "execution_count": 6,
   "metadata": {},
   "outputs": [],
   "source": [
    "descriptions = {}\n",
    "for file in txt_files:\n",
    "    with open(file, \"r\") as file:\n",
    "        content = file.read()\n",
    "\n",
    "    # this just gets title, authors, abstract, etc. and not the introduction\n",
    "    text = get_text_before_introduction(content)\n",
    "\n",
    "    # we create a dictionary with the file name as key and the description as value for all papers\n",
    "    descriptions[file] = {}\n",
    "    descriptions[file][\"description\"] = text"
   ]
  },
  {
   "cell_type": "code",
   "execution_count": 7,
   "metadata": {},
   "outputs": [
    {
     "name": "stderr",
     "output_type": "stream",
     "text": [
      "100%|██████████| 10/10 [00:02<00:00,  4.02it/s]\n"
     ]
    }
   ],
   "source": [
    "# Use the NER pipeline to extract entities from the description\n",
    "\n",
    "country_names_list = []\n",
    "uni_names_list = []\n",
    "\n",
    "# Loop over all descriptions\n",
    "for key in tqdm.tqdm(descriptions.keys()):\n",
    "    \n",
    "    description = descriptions[key][\"description\"]\n",
    "    # if description is none, skip\n",
    "    if description is None:\n",
    "        continue\n",
    "\n",
    "    # Use the NER pipeline to extract entities from the description\n",
    "    entities = ner_pipeline(description)\n",
    "    \n",
    "    # Filter out entities classified as persons (which might include authors)\n",
    "    # author_names = [entity['word'] for entity in entities if entity['entity'] == 'I-PER']\n",
    "    # descriptions[key][\"authors\"] = {\"authors\": author_names}\n",
    "\n",
    "    # # Filter out entities classified as organizations, which might include universities and institutions\n",
    "    university_names = [entity['word'] for entity in entities if entity['entity'] == 'B-ORG' or entity['entity'] == 'I-ORG']\n",
    "\n",
    "    descriptions[key][\"universities\"] = {\"universities\": university_names}\n",
    "    uni_names_list.extend(university_names)\n",
    "\n",
    "    country_names = [entity['word'] for entity in entities if entity['entity'] in ['B-LOC', 'I-LOC', 'B-GPE']] #, 'I-GPE']]\n",
    "    descriptions[key][\"countries\"] = {\"countries\": country_names}\n",
    "    \n",
    "    country_names_list.extend(country_names)"
   ]
  },
  {
   "cell_type": "code",
   "execution_count": 8,
   "metadata": {},
   "outputs": [
    {
     "data": {
      "text/plain": [
       "33"
      ]
     },
     "execution_count": 8,
     "metadata": {},
     "output_type": "execute_result"
    }
   ],
   "source": [
    "len(country_names_list)"
   ]
  },
  {
   "cell_type": "code",
   "execution_count": 9,
   "metadata": {},
   "outputs": [
    {
     "name": "stdout",
     "output_type": "stream",
     "text": [
      "China: 7\n",
      "Hang: 4\n",
      "##zhou: 4\n",
      "Dal: 3\n",
      "##ian: 3\n",
      "Singapore: 2\n",
      "Belle: 1\n",
      "##vue: 1\n",
      "WA: 1\n",
      "##ua: 1\n",
      "Lia: 1\n",
      "##oning: 1\n",
      "Province: 1\n",
      "San: 1\n",
      "Diego: 1\n",
      "Zurich: 1\n"
     ]
    }
   ],
   "source": [
    "from collections import Counter\n",
    "\n",
    "# Use Counter to count occurrences\n",
    "counts = Counter(country_names_list)\n",
    "\n",
    "# Sort items by count in descending order\n",
    "sorted_counts = sorted(counts.items(), key=lambda item: item[1], reverse=True)\n",
    "\n",
    "# Print sorted counts\n",
    "for element, count in sorted_counts:\n",
    "    print(f\"{element}: {count}\")"
   ]
  },
  {
   "cell_type": "markdown",
   "metadata": {},
   "source": [
    "## Notes\n",
    "\n",
    "Our preliminary results show that the researchers from China and USA represent a majority of users of the foundation models, which the number of Chinese researchers even surpassing the US researchers."
   ]
  }
 ],
 "metadata": {
  "kernelspec": {
   "display_name": ".venv",
   "language": "python",
   "name": "python3"
  },
  "language_info": {
   "codemirror_mode": {
    "name": "ipython",
    "version": 3
   },
   "file_extension": ".py",
   "mimetype": "text/x-python",
   "name": "python",
   "nbconvert_exporter": "python",
   "pygments_lexer": "ipython3",
   "version": "3.12.0"
  }
 },
 "nbformat": 4,
 "nbformat_minor": 2
}
