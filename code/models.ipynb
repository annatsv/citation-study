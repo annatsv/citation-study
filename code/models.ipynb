{
 "cells": [
  {
   "cell_type": "code",
   "execution_count": 3,
   "metadata": {},
   "outputs": [],
   "source": [
    "import requests\n",
    "import json\n",
    "import pandas as pd\n",
    "import numpy as np\n",
    "from typing import List, Dict\n",
    "import matplotlib.pyplot as plt\n",
    "from tqdm import tqdm\n",
    "import logging"
   ]
  },
  {
   "cell_type": "code",
   "execution_count": 4,
   "metadata": {},
   "outputs": [
    {
     "name": "stdout",
     "output_type": "stream",
     "text": [
      "<class 'pandas.core.frame.DataFrame'>\n",
      "RangeIndex: 1170 entries, 0 to 1169\n",
      "Data columns (total 51 columns):\n",
      " #   Column                              Non-Null Count  Dtype  \n",
      "---  ------                              --------------  -----  \n",
      " 0   System                              1170 non-null   object \n",
      " 1   Domain                              1170 non-null   object \n",
      " 2   Organization                        1021 non-null   object \n",
      " 3   Authors                             1060 non-null   object \n",
      " 4   Publication date                    1170 non-null   object \n",
      " 5   Reference                           1126 non-null   object \n",
      " 6   Link                                1168 non-null   object \n",
      " 7   Citations                           1024 non-null   float64\n",
      " 8   Notability criteria                 764 non-null    object \n",
      " 9   Notability criteria notes           454 non-null    object \n",
      " 10  Compute sponsor categorization      569 non-null    object \n",
      " 11  Authors by country                  629 non-null    object \n",
      " 12  Last modified                       1170 non-null   object \n",
      " 13  Created By                          1170 non-null   object \n",
      " 14  Organization categorization         1018 non-null   object \n",
      " 15  Country (from Organization)         1016 non-null   object \n",
      " 16  Task                                715 non-null    object \n",
      " 17  Parameters                          805 non-null    float64\n",
      " 18  Parameters notes                    579 non-null    object \n",
      " 19  Confidence                          463 non-null    object \n",
      " 20  Open-source                         233 non-null    object \n",
      " 21  Base model                          66 non-null     object \n",
      " 22  Benchmark data                      238 non-null    object \n",
      " 23  Training compute (FLOP)             511 non-null    object \n",
      " 24  Training compute notes              469 non-null    object \n",
      " 25  Training dataset                    410 non-null    object \n",
      " 26  Training dataset notes              327 non-null    object \n",
      " 27  Training dataset size (datapoints)  377 non-null    float64\n",
      " 28  Dataset size notes                  435 non-null    object \n",
      " 29  Inference compute notes             100 non-null    object \n",
      " 30  Approach                            184 non-null    object \n",
      " 31  Training compute cost (2020 USD)    124 non-null    float64\n",
      " 32  Abstract                            479 non-null    object \n",
      " 33  Exclude                             233 non-null    float64\n",
      " 34  Archived links                      22 non-null     object \n",
      " 35  Training hardware                   280 non-null    object \n",
      " 36  Training cost trends                133 non-null    object \n",
      " 37  Epochs                              240 non-null    float64\n",
      " 38  Inference compute (FLOP)            93 non-null     float64\n",
      " 39  Foundation model                    69 non-null     object \n",
      " 40  Training time (hours)               153 non-null    float64\n",
      " 41  Training time notes                 144 non-null    object \n",
      " 42  Finetune compute notes              53 non-null     object \n",
      " 43  Batch size                          55 non-null     float64\n",
      " 44  Hardware quantity                   106 non-null    float64\n",
      " 45  Hardware utilization                23 non-null     float64\n",
      " 46  Compute cost notes                  18 non-null     object \n",
      " 47  Training cloud compute vendor       1 non-null      object \n",
      " 48  Batch size notes                    54 non-null     object \n",
      " 49  Finetune compute (FLOP)             28 non-null     float64\n",
      " 50  Training data center                2 non-null      object \n",
      "dtypes: float64(12), object(39)\n",
      "memory usage: 466.3+ KB\n"
     ]
    }
   ],
   "source": [
    "pcd_dataset = pd.read_csv(\"https://epochai.org/data/epochdb/all_systems.csv\")\n",
    "pcd_dataset.info()\n",
    "\n",
    "# pcd_dataset = pd.read_csv(\"../data/all_systems.csv\")\n",
    "# pcd_dataset.info()"
   ]
  },
  {
   "cell_type": "code",
   "execution_count": 5,
   "metadata": {},
   "outputs": [
    {
     "data": {
      "text/plain": [
       "1170"
      ]
     },
     "execution_count": 5,
     "metadata": {},
     "output_type": "execute_result"
    }
   ],
   "source": [
    "len(pcd_dataset)"
   ]
  },
  {
   "cell_type": "code",
   "execution_count": null,
   "metadata": {},
   "outputs": [],
   "source": [
    "pcd_dataset.columns"
   ]
  },
  {
   "cell_type": "code",
   "execution_count": 6,
   "metadata": {},
   "outputs": [
    {
     "data": {
      "text/plain": [
       "Domain\n",
       "Language                            587\n",
       "Vision                              188\n",
       "Biology                              58\n",
       "Games                                50\n",
       "Multimodal                           47\n",
       "Other                                39\n",
       "Speech                               36\n",
       "Image generation                     31\n",
       "Recommendation                       25\n",
       "Robotics                             22\n",
       "Video                                16\n",
       "Vision,Image generation              12\n",
       "Audio                                10\n",
       "3D modeling                           7\n",
       "Mathematics                           6\n",
       "Driving                               5\n",
       "Medicine                              3\n",
       "Image generation,Vision               3\n",
       "Earth science                         3\n",
       "Multimodal,Vision,Language            2\n",
       "Language,Biology                      2\n",
       "Multimodal,Language,Vision            2\n",
       "Language,Vision                       2\n",
       "Vision,Language                       2\n",
       "Biology,Language                      2\n",
       "Vision,Games                          1\n",
       "Speech,Language                       1\n",
       "Language,Speech,Audio                 1\n",
       "Biology,Vision,Language,Medicine      1\n",
       "Robotics,Games                        1\n",
       "Vision,Search                         1\n",
       "Search                                1\n",
       "Vision,Medicine                       1\n",
       "Materials science                     1\n",
       "Audio,Speech                          1\n",
       "Name: count, dtype: int64"
      ]
     },
     "execution_count": 6,
     "metadata": {},
     "output_type": "execute_result"
    }
   ],
   "source": [
    "pcd_dataset.Domain.value_counts()"
   ]
  },
  {
   "cell_type": "code",
   "execution_count": 7,
   "metadata": {},
   "outputs": [
    {
     "data": {
      "text/plain": [
       "count      1024.000000\n",
       "mean       3601.950195\n",
       "std       11596.700658\n",
       "min           0.000000\n",
       "25%          42.000000\n",
       "50%         340.000000\n",
       "75%        2513.500000\n",
       "max      152462.000000\n",
       "Name: Citations, dtype: float64"
      ]
     },
     "execution_count": 7,
     "metadata": {},
     "output_type": "execute_result"
    }
   ],
   "source": [
    "pcd_dataset.Citations.describe()"
   ]
  },
  {
   "cell_type": "code",
   "execution_count": 13,
   "metadata": {},
   "outputs": [
    {
     "data": {
      "text/html": [
       "<div>\n",
       "<style scoped>\n",
       "    .dataframe tbody tr th:only-of-type {\n",
       "        vertical-align: middle;\n",
       "    }\n",
       "\n",
       "    .dataframe tbody tr th {\n",
       "        vertical-align: top;\n",
       "    }\n",
       "\n",
       "    .dataframe thead th {\n",
       "        text-align: right;\n",
       "    }\n",
       "</style>\n",
       "<table border=\"1\" class=\"dataframe\">\n",
       "  <thead>\n",
       "    <tr style=\"text-align: right;\">\n",
       "      <th></th>\n",
       "      <th>System</th>\n",
       "      <th>Domain</th>\n",
       "      <th>Organization</th>\n",
       "      <th>Authors</th>\n",
       "      <th>Publication date</th>\n",
       "      <th>Reference</th>\n",
       "      <th>Link</th>\n",
       "      <th>Citations</th>\n",
       "      <th>Notability criteria</th>\n",
       "      <th>Notability criteria notes</th>\n",
       "      <th>...</th>\n",
       "      <th>Training time notes</th>\n",
       "      <th>Finetune compute notes</th>\n",
       "      <th>Batch size</th>\n",
       "      <th>Hardware quantity</th>\n",
       "      <th>Hardware utilization</th>\n",
       "      <th>Compute cost notes</th>\n",
       "      <th>Training cloud compute vendor</th>\n",
       "      <th>Batch size notes</th>\n",
       "      <th>Finetune compute (FLOP)</th>\n",
       "      <th>Training data center</th>\n",
       "    </tr>\n",
       "  </thead>\n",
       "  <tbody>\n",
       "    <tr>\n",
       "      <th>289</th>\n",
       "      <td>ResNet-152 (ImageNet)</td>\n",
       "      <td>Vision</td>\n",
       "      <td>Microsoft</td>\n",
       "      <td>Kaiming He, Xiangyu Zhang, Shaoqing Ren, Jian Sun</td>\n",
       "      <td>2015-12-10</td>\n",
       "      <td>Deep Residual Learning for Image Recognition</td>\n",
       "      <td>https://arxiv.org/abs/1512.03385</td>\n",
       "      <td>152462.0</td>\n",
       "      <td>Highly cited</td>\n",
       "      <td>NaN</td>\n",
       "      <td>...</td>\n",
       "      <td>NaN</td>\n",
       "      <td>NaN</td>\n",
       "      <td>NaN</td>\n",
       "      <td>NaN</td>\n",
       "      <td>NaN</td>\n",
       "      <td>NaN</td>\n",
       "      <td>NaN</td>\n",
       "      <td>NaN</td>\n",
       "      <td>NaN</td>\n",
       "      <td>NaN</td>\n",
       "    </tr>\n",
       "    <tr>\n",
       "      <th>17</th>\n",
       "      <td>ResNet-110 (CIFAR-10)</td>\n",
       "      <td>Vision</td>\n",
       "      <td>Microsoft</td>\n",
       "      <td>Kaiming He, Xiangyu Zhang, Shaoqing Ren, Jian Sun</td>\n",
       "      <td>2015-12-10</td>\n",
       "      <td>Deep Residual Learning for Image Recognition</td>\n",
       "      <td>https://arxiv.org/abs/1512.03385</td>\n",
       "      <td>152462.0</td>\n",
       "      <td>Highly cited</td>\n",
       "      <td>NaN</td>\n",
       "      <td>...</td>\n",
       "      <td>NaN</td>\n",
       "      <td>NaN</td>\n",
       "      <td>NaN</td>\n",
       "      <td>NaN</td>\n",
       "      <td>NaN</td>\n",
       "      <td>NaN</td>\n",
       "      <td>NaN</td>\n",
       "      <td>NaN</td>\n",
       "      <td>NaN</td>\n",
       "      <td>NaN</td>\n",
       "    </tr>\n",
       "    <tr>\n",
       "      <th>1085</th>\n",
       "      <td>ADAM (CIFAR-10)</td>\n",
       "      <td>Vision</td>\n",
       "      <td>University of Amsterdam,OpenAI,University of T...</td>\n",
       "      <td>DP Kingma, J Ba</td>\n",
       "      <td>2014-12-22</td>\n",
       "      <td>Adam: A Method for Stochastic Optimization</td>\n",
       "      <td>https://arxiv.org/abs/1412.6980</td>\n",
       "      <td>130138.0</td>\n",
       "      <td>Highly cited</td>\n",
       "      <td>NaN</td>\n",
       "      <td>...</td>\n",
       "      <td>NaN</td>\n",
       "      <td>NaN</td>\n",
       "      <td>NaN</td>\n",
       "      <td>NaN</td>\n",
       "      <td>NaN</td>\n",
       "      <td>NaN</td>\n",
       "      <td>NaN</td>\n",
       "      <td>NaN</td>\n",
       "      <td>NaN</td>\n",
       "      <td>NaN</td>\n",
       "    </tr>\n",
       "    <tr>\n",
       "      <th>860</th>\n",
       "      <td>AlexNet</td>\n",
       "      <td>Vision</td>\n",
       "      <td>University of Toronto</td>\n",
       "      <td>Alex Krizhevsky, Ilya Sutskever, Geoffrey Hinton</td>\n",
       "      <td>2012-09-30</td>\n",
       "      <td>ImageNet Classification with Deep Convolutiona...</td>\n",
       "      <td>https://proceedings.neurips.cc/paper/2012/hash...</td>\n",
       "      <td>105754.0</td>\n",
       "      <td>Highly cited</td>\n",
       "      <td>NaN</td>\n",
       "      <td>...</td>\n",
       "      <td>NaN</td>\n",
       "      <td>NaN</td>\n",
       "      <td>NaN</td>\n",
       "      <td>NaN</td>\n",
       "      <td>NaN</td>\n",
       "      <td>NaN</td>\n",
       "      <td>NaN</td>\n",
       "      <td>NaN</td>\n",
       "      <td>NaN</td>\n",
       "      <td>NaN</td>\n",
       "    </tr>\n",
       "    <tr>\n",
       "      <th>837</th>\n",
       "      <td>VGG16</td>\n",
       "      <td>Vision</td>\n",
       "      <td>University of Oxford</td>\n",
       "      <td>Karen Simonyan; Andrew Zisserman</td>\n",
       "      <td>2014-09-04</td>\n",
       "      <td>Very Deep Convolutional Networks for Large-Sca...</td>\n",
       "      <td>https://arxiv.org/abs/1409.1556</td>\n",
       "      <td>85858.0</td>\n",
       "      <td>Highly cited</td>\n",
       "      <td>NaN</td>\n",
       "      <td>...</td>\n",
       "      <td>NaN</td>\n",
       "      <td>NaN</td>\n",
       "      <td>NaN</td>\n",
       "      <td>NaN</td>\n",
       "      <td>NaN</td>\n",
       "      <td>NaN</td>\n",
       "      <td>NaN</td>\n",
       "      <td>NaN</td>\n",
       "      <td>NaN</td>\n",
       "      <td>NaN</td>\n",
       "    </tr>\n",
       "  </tbody>\n",
       "</table>\n",
       "<p>5 rows × 51 columns</p>\n",
       "</div>"
      ],
      "text/plain": [
       "                     System  Domain  \\\n",
       "289   ResNet-152 (ImageNet)  Vision   \n",
       "17    ResNet-110 (CIFAR-10)  Vision   \n",
       "1085        ADAM (CIFAR-10)  Vision   \n",
       "860                 AlexNet  Vision   \n",
       "837                   VGG16  Vision   \n",
       "\n",
       "                                           Organization  \\\n",
       "289                                           Microsoft   \n",
       "17                                            Microsoft   \n",
       "1085  University of Amsterdam,OpenAI,University of T...   \n",
       "860                               University of Toronto   \n",
       "837                                University of Oxford   \n",
       "\n",
       "                                                Authors Publication date  \\\n",
       "289   Kaiming He, Xiangyu Zhang, Shaoqing Ren, Jian Sun       2015-12-10   \n",
       "17    Kaiming He, Xiangyu Zhang, Shaoqing Ren, Jian Sun       2015-12-10   \n",
       "1085                                    DP Kingma, J Ba       2014-12-22   \n",
       "860    Alex Krizhevsky, Ilya Sutskever, Geoffrey Hinton       2012-09-30   \n",
       "837                    Karen Simonyan; Andrew Zisserman       2014-09-04   \n",
       "\n",
       "                                              Reference  \\\n",
       "289        Deep Residual Learning for Image Recognition   \n",
       "17         Deep Residual Learning for Image Recognition   \n",
       "1085         Adam: A Method for Stochastic Optimization   \n",
       "860   ImageNet Classification with Deep Convolutiona...   \n",
       "837   Very Deep Convolutional Networks for Large-Sca...   \n",
       "\n",
       "                                                   Link  Citations  \\\n",
       "289                    https://arxiv.org/abs/1512.03385   152462.0   \n",
       "17                     https://arxiv.org/abs/1512.03385   152462.0   \n",
       "1085                    https://arxiv.org/abs/1412.6980   130138.0   \n",
       "860   https://proceedings.neurips.cc/paper/2012/hash...   105754.0   \n",
       "837                     https://arxiv.org/abs/1409.1556    85858.0   \n",
       "\n",
       "     Notability criteria Notability criteria notes  ... Training time notes  \\\n",
       "289         Highly cited                       NaN  ...                 NaN   \n",
       "17          Highly cited                       NaN  ...                 NaN   \n",
       "1085        Highly cited                       NaN  ...                 NaN   \n",
       "860         Highly cited                       NaN  ...                 NaN   \n",
       "837         Highly cited                       NaN  ...                 NaN   \n",
       "\n",
       "     Finetune compute notes Batch size Hardware quantity Hardware utilization  \\\n",
       "289                     NaN        NaN               NaN                  NaN   \n",
       "17                      NaN        NaN               NaN                  NaN   \n",
       "1085                    NaN        NaN               NaN                  NaN   \n",
       "860                     NaN        NaN               NaN                  NaN   \n",
       "837                     NaN        NaN               NaN                  NaN   \n",
       "\n",
       "     Compute cost notes Training cloud compute vendor  Batch size notes  \\\n",
       "289                 NaN                           NaN               NaN   \n",
       "17                  NaN                           NaN               NaN   \n",
       "1085                NaN                           NaN               NaN   \n",
       "860                 NaN                           NaN               NaN   \n",
       "837                 NaN                           NaN               NaN   \n",
       "\n",
       "     Finetune compute (FLOP) Training data center  \n",
       "289                      NaN                  NaN  \n",
       "17                       NaN                  NaN  \n",
       "1085                     NaN                  NaN  \n",
       "860                      NaN                  NaN  \n",
       "837                      NaN                  NaN  \n",
       "\n",
       "[5 rows x 51 columns]"
      ]
     },
     "execution_count": 13,
     "metadata": {},
     "output_type": "execute_result"
    }
   ],
   "source": [
    "# Most cited papers\n",
    "\n",
    "pcd_dataset.sort_values(by=\"Citations\", ascending=False).head(5)"
   ]
  },
  {
   "cell_type": "code",
   "execution_count": 9,
   "metadata": {},
   "outputs": [
    {
     "data": {
      "text/plain": [
       "Organization\n",
       "Google                                         61\n",
       "OpenAI                                         31\n",
       "DeepMind                                       30\n",
       "Meta AI                                        26\n",
       "Stanford University                            24\n",
       "Google DeepMind                                20\n",
       "Google Brain                                   20\n",
       "Microsoft                                      19\n",
       "University of Toronto                          16\n",
       "Massachusetts Institute of Technology (MIT)    15\n",
       "Name: count, dtype: int64"
      ]
     },
     "execution_count": 9,
     "metadata": {},
     "output_type": "execute_result"
    }
   ],
   "source": [
    "pcd_dataset[\"Organization\"].value_counts().head(10)"
   ]
  },
  {
   "cell_type": "code",
   "execution_count": 10,
   "metadata": {},
   "outputs": [
    {
     "data": {
      "text/plain": [
       "count                             1170\n",
       "mean     2016-10-25 00:40:36.923076864\n",
       "min                1950-07-02 00:00:00\n",
       "25%                2016-09-12 18:00:00\n",
       "50%                2020-04-28 00:00:00\n",
       "75%                2022-10-02 00:00:00\n",
       "max                2029-09-13 00:00:00\n",
       "Name: Publication date, dtype: object"
      ]
     },
     "execution_count": 10,
     "metadata": {},
     "output_type": "execute_result"
    }
   ],
   "source": [
    "pcd_dataset[\"Publication date\"] = pd.to_datetime(pcd_dataset[\"Publication date\"])\n",
    "pcd_dataset[\"Publication date\"].describe()"
   ]
  },
  {
   "cell_type": "code",
   "execution_count": 11,
   "metadata": {},
   "outputs": [
    {
     "data": {
      "text/html": [
       "<div>\n",
       "<style scoped>\n",
       "    .dataframe tbody tr th:only-of-type {\n",
       "        vertical-align: middle;\n",
       "    }\n",
       "\n",
       "    .dataframe tbody tr th {\n",
       "        vertical-align: top;\n",
       "    }\n",
       "\n",
       "    .dataframe thead th {\n",
       "        text-align: right;\n",
       "    }\n",
       "</style>\n",
       "<table border=\"1\" class=\"dataframe\">\n",
       "  <thead>\n",
       "    <tr style=\"text-align: right;\">\n",
       "      <th></th>\n",
       "      <th>System</th>\n",
       "      <th>Domain</th>\n",
       "      <th>Organization</th>\n",
       "      <th>Authors</th>\n",
       "      <th>Publication date</th>\n",
       "      <th>Reference</th>\n",
       "      <th>Link</th>\n",
       "      <th>Citations</th>\n",
       "      <th>Notability criteria</th>\n",
       "      <th>Notability criteria notes</th>\n",
       "      <th>...</th>\n",
       "      <th>Training time notes</th>\n",
       "      <th>Finetune compute notes</th>\n",
       "      <th>Batch size</th>\n",
       "      <th>Hardware quantity</th>\n",
       "      <th>Hardware utilization</th>\n",
       "      <th>Compute cost notes</th>\n",
       "      <th>Training cloud compute vendor</th>\n",
       "      <th>Batch size notes</th>\n",
       "      <th>Finetune compute (FLOP)</th>\n",
       "      <th>Training data center</th>\n",
       "    </tr>\n",
       "  </thead>\n",
       "  <tbody>\n",
       "    <tr>\n",
       "      <th>946</th>\n",
       "      <td>BaGuaLu</td>\n",
       "      <td>Multimodal</td>\n",
       "      <td>Tsinghua University,Zhejiang Lab,Beijing Acade...</td>\n",
       "      <td>Zixuan Ma, Jiaao He, Jiezhong Qiu, Huanqi Cao,...</td>\n",
       "      <td>2022-03-28</td>\n",
       "      <td>BaGuaLu: Targeting Brain Scale Pretrained Mode...</td>\n",
       "      <td>https://dl.acm.org/doi/abs/10.1145/3503221.350...</td>\n",
       "      <td>26.0</td>\n",
       "      <td>NaN</td>\n",
       "      <td>NaN</td>\n",
       "      <td>...</td>\n",
       "      <td>NaN</td>\n",
       "      <td>NaN</td>\n",
       "      <td>NaN</td>\n",
       "      <td>NaN</td>\n",
       "      <td>NaN</td>\n",
       "      <td>NaN</td>\n",
       "      <td>NaN</td>\n",
       "      <td>NaN</td>\n",
       "      <td>NaN</td>\n",
       "      <td>NaN</td>\n",
       "    </tr>\n",
       "  </tbody>\n",
       "</table>\n",
       "<p>1 rows × 51 columns</p>\n",
       "</div>"
      ],
      "text/plain": [
       "      System      Domain                                       Organization  \\\n",
       "946  BaGuaLu  Multimodal  Tsinghua University,Zhejiang Lab,Beijing Acade...   \n",
       "\n",
       "                                               Authors Publication date  \\\n",
       "946  Zixuan Ma, Jiaao He, Jiezhong Qiu, Huanqi Cao,...       2022-03-28   \n",
       "\n",
       "                                             Reference  \\\n",
       "946  BaGuaLu: Targeting Brain Scale Pretrained Mode...   \n",
       "\n",
       "                                                  Link  Citations  \\\n",
       "946  https://dl.acm.org/doi/abs/10.1145/3503221.350...       26.0   \n",
       "\n",
       "    Notability criteria Notability criteria notes  ... Training time notes  \\\n",
       "946                 NaN                       NaN  ...                 NaN   \n",
       "\n",
       "    Finetune compute notes Batch size Hardware quantity Hardware utilization  \\\n",
       "946                    NaN        NaN               NaN                  NaN   \n",
       "\n",
       "    Compute cost notes Training cloud compute vendor  Batch size notes  \\\n",
       "946                NaN                           NaN               NaN   \n",
       "\n",
       "    Finetune compute (FLOP) Training data center  \n",
       "946                     NaN                  NaN  \n",
       "\n",
       "[1 rows x 51 columns]"
      ]
     },
     "execution_count": 11,
     "metadata": {},
     "output_type": "execute_result"
    }
   ],
   "source": [
    "# Identify the largest model\n",
    "\n",
    "pcd_dataset[pcd_dataset[\"Parameters\"]==pcd_dataset[\"Parameters\"].max()]"
   ]
  },
  {
   "cell_type": "code",
   "execution_count": 12,
   "metadata": {},
   "outputs": [
    {
     "data": {
      "text/plain": [
       "Open-source\n",
       "Fully open-source     104373.0\n",
       "API accessible         23281.0\n",
       "Permissive license     11187.0\n",
       "Unreleased              2908.0\n",
       "Weights available       2009.0\n",
       "Name: Citations, dtype: float64"
      ]
     },
     "execution_count": 12,
     "metadata": {},
     "output_type": "execute_result"
    }
   ],
   "source": [
    "# Citation sum per level of open-source status\n",
    "\n",
    "pcd_dataset.groupby(\"Open-source\")[\"Citations\"].sum().sort_values(ascending=False)"
   ]
  },
  {
   "cell_type": "code",
   "execution_count": 49,
   "metadata": {},
   "outputs": [
    {
     "data": {
      "text/plain": [
       "3684174.0"
      ]
     },
     "execution_count": 49,
     "metadata": {},
     "output_type": "execute_result"
    }
   ],
   "source": [
    "pcd_dataset[\"Citations\"].sum()"
   ]
  },
  {
   "cell_type": "code",
   "execution_count": 46,
   "metadata": {},
   "outputs": [
    {
     "data": {
      "text/plain": [
       "array([nan, 'Fully open-source', 'Permissive license', 'API accessible',\n",
       "       'Unreleased', 'Weights available'], dtype=object)"
      ]
     },
     "execution_count": 46,
     "metadata": {},
     "output_type": "execute_result"
    }
   ],
   "source": [
    "pcd_dataset[\"Open-source\"].unique()"
   ]
  },
  {
   "cell_type": "markdown",
   "metadata": {},
   "source": [
    "# Conclusions\n",
    "\n",
    "We look into 1143 foundation models. The model types include Language, Vision, Biology, Games, Multimodal, Robotics and others. Majority of the models are language models (50%), with vision models being the second most common (16%). The models included were published from 1950 to 2024, though majority include models published from 2016 onwards. Most of the models are documented as academic papers or reports, and they recived an average of 358 citations. Most cited model papers are vision and language models. The number of parameters for the smallest models is 10 or more, while for the largest model is over 170 trilion parameters. \n",
    "\n",
    "The sample includes methodology papers, such as for example a method for stochastic optimization Adam, long short-term memory networks and transofrmers."
   ]
  },
  {
   "cell_type": "code",
   "execution_count": 14,
   "metadata": {},
   "outputs": [
    {
     "data": {
      "image/png": "[encoded data removed]",
      "text/plain": [
       "<Figure size 640x480 with 1 Axes>"
      ]
     },
     "metadata": {},
     "output_type": "display_data"
    },
    {
     "data": {
      "image/png": "[encoded data removed]",
      "text/plain": [
       "<Figure size 640x480 with 1 Axes>"
      ]
     },
     "metadata": {},
     "output_type": "display_data"
    },
    {
     "data": {
      "image/png": "[encoded data removed]",
      "text/plain": [
       "<Figure size 640x480 with 1 Axes>"
      ]
     },
     "metadata": {},
     "output_type": "display_data"
    },
    {
     "data": {
      "image/png": "[encoded data removed]",
      "text/plain": [
       "<Figure size 640x480 with 1 Axes>"
      ]
     },
     "metadata": {},
     "output_type": "display_data"
    },
    {
     "data": {
      "image/png": "[encoded data removed]",
      "text/plain": [
       "<Figure size 640x480 with 1 Axes>"
      ]
     },
     "metadata": {},
     "output_type": "display_data"
    },
    {
     "data": {
      "image/png": "[encoded data removed]",
      "text/plain": [
       "<Figure size 640x480 with 1 Axes>"
      ]
     },
     "metadata": {},
     "output_type": "display_data"
    },
    {
     "data": {
      "image/png": "[encoded data removed]",
      "text/plain": [
       "<Figure size 640x480 with 1 Axes>"
      ]
     },
     "metadata": {},
     "output_type": "display_data"
    },
    {
     "data": {
      "image/png": "[encoded data removed]",
      "text/plain": [
       "<Figure size 640x480 with 1 Axes>"
      ]
     },
     "metadata": {},
     "output_type": "display_data"
    },
    {
     "data": {
      "image/png": "[encoded data removed]",
      "text/plain": [
       "<Figure size 640x480 with 1 Axes>"
      ]
     },
     "metadata": {},
     "output_type": "display_data"
    },
    {
     "data": {
      "image/png": "[encoded data removed]",
      "text/plain": [
       "<Figure size 640x480 with 1 Axes>"
      ]
     },
     "metadata": {},
     "output_type": "display_data"
    },
    {
     "data": {
      "image/png": "[encoded data removed]",
      "text/plain": [
       "<Figure size 640x480 with 1 Axes>"
      ]
     },
     "metadata": {},
     "output_type": "display_data"
    },
    {
     "data": {
      "image/png": "[encoded data removed]",
      "text/plain": [
       "<Figure size 640x480 with 1 Axes>"
      ]
     },
     "metadata": {},
     "output_type": "display_data"
    }
   ],
   "source": [
    "# distributions of integer columns\n",
    "\n",
    "for column in pcd_dataset.select_dtypes(include=[np.number]).columns:\n",
    "    plt.hist(pcd_dataset[column], bins=20)\n",
    "    plt.title(column)\n",
    "    plt.show()"
   ]
  },
  {
   "cell_type": "code",
   "execution_count": 15,
   "metadata": {},
   "outputs": [
    {
     "data": {
      "text/html": [
       "<div>\n",
       "<style scoped>\n",
       "    .dataframe tbody tr th:only-of-type {\n",
       "        vertical-align: middle;\n",
       "    }\n",
       "\n",
       "    .dataframe tbody tr th {\n",
       "        vertical-align: top;\n",
       "    }\n",
       "\n",
       "    .dataframe thead th {\n",
       "        text-align: right;\n",
       "    }\n",
       "</style>\n",
       "<table border=\"1\" class=\"dataframe\">\n",
       "  <thead>\n",
       "    <tr style=\"text-align: right;\">\n",
       "      <th></th>\n",
       "      <th>Organization categorization</th>\n",
       "      <th>unique_items</th>\n",
       "    </tr>\n",
       "  </thead>\n",
       "  <tbody>\n",
       "    <tr>\n",
       "      <th>0</th>\n",
       "      <td>Academia</td>\n",
       "      <td>[Academia]</td>\n",
       "    </tr>\n",
       "    <tr>\n",
       "      <th>1</th>\n",
       "      <td>Industry</td>\n",
       "      <td>[Industry]</td>\n",
       "    </tr>\n",
       "    <tr>\n",
       "      <th>2</th>\n",
       "      <td>Academia,Academia</td>\n",
       "      <td>[Academia]</td>\n",
       "    </tr>\n",
       "    <tr>\n",
       "      <th>3</th>\n",
       "      <td>Academia,Academia,Academia,Academia</td>\n",
       "      <td>[Academia]</td>\n",
       "    </tr>\n",
       "    <tr>\n",
       "      <th>4</th>\n",
       "      <td>Academia</td>\n",
       "      <td>[Academia]</td>\n",
       "    </tr>\n",
       "  </tbody>\n",
       "</table>\n",
       "</div>"
      ],
      "text/plain": [
       "           Organization categorization unique_items\n",
       "0                             Academia   [Academia]\n",
       "1                             Industry   [Industry]\n",
       "2                    Academia,Academia   [Academia]\n",
       "3  Academia,Academia,Academia,Academia   [Academia]\n",
       "4                             Academia   [Academia]"
      ]
     },
     "execution_count": 15,
     "metadata": {},
     "output_type": "execute_result"
    }
   ],
   "source": [
    "orgs = pcd_dataset[['Organization categorization']].dropna()\n",
    "\n",
    "orgs['unique_items'] = orgs['Organization categorization'].apply(lambda x: list(set(x.split(','))))\n",
    "orgs.head()"
   ]
  },
  {
   "cell_type": "code",
   "execution_count": 16,
   "metadata": {},
   "outputs": [
    {
     "data": {
      "text/plain": [
       "unique_items\n",
       "[Industry]                                               466\n",
       "[Academia]                                               345\n",
       "[Academia, Industry]                                     188\n",
       "[Research collective]                                      8\n",
       "[Government]                                               3\n",
       "[Academia, Government, Industry]                           2\n",
       "[Academia, Research collective, Industry]                  2\n",
       "[Research collective, Industry]                            2\n",
       "[Academia, Government]                                     1\n",
       "[Academia, Government, Industry, Research collective]      1\n",
       "Name: count, dtype: int64"
      ]
     },
     "execution_count": 16,
     "metadata": {},
     "output_type": "execute_result"
    }
   ],
   "source": [
    "orgs['unique_items'].value_counts()"
   ]
  },
  {
   "cell_type": "code",
   "execution_count": 17,
   "metadata": {},
   "outputs": [
    {
     "data": {
      "text/plain": [
       "Open-source\n",
       "Permissive license    96\n",
       "Fully open-source     71\n",
       "API accessible        26\n",
       "Weights available     24\n",
       "Unreleased            16\n",
       "Name: count, dtype: int64"
      ]
     },
     "execution_count": 17,
     "metadata": {},
     "output_type": "execute_result"
    }
   ],
   "source": [
    "pcd_dataset['Open-source'].value_counts()"
   ]
  },
  {
   "cell_type": "code",
   "execution_count": 18,
   "metadata": {},
   "outputs": [
    {
     "data": {
      "text/plain": [
       "System                                   0\n",
       "Domain                                   0\n",
       "Organization                           149\n",
       "Authors                                110\n",
       "Publication date                         0\n",
       "Reference                               44\n",
       "Link                                     2\n",
       "Citations                              146\n",
       "Notability criteria                    406\n",
       "Notability criteria notes              716\n",
       "Compute sponsor categorization         601\n",
       "Authors by country                     541\n",
       "Last modified                            0\n",
       "Created By                               0\n",
       "Organization categorization            152\n",
       "Country (from Organization)            154\n",
       "Task                                   455\n",
       "Parameters                             365\n",
       "Parameters notes                       591\n",
       "Confidence                             707\n",
       "Open-source                            937\n",
       "Base model                            1104\n",
       "Benchmark data                         932\n",
       "Training compute (FLOP)                659\n",
       "Training compute notes                 701\n",
       "Training dataset                       760\n",
       "Training dataset notes                 843\n",
       "Training dataset size (datapoints)     793\n",
       "Dataset size notes                     735\n",
       "Inference compute notes               1070\n",
       "Approach                               986\n",
       "Training compute cost (2020 USD)      1046\n",
       "Abstract                               691\n",
       "Exclude                                937\n",
       "Archived links                        1148\n",
       "Training hardware                      890\n",
       "Training cost trends                  1037\n",
       "Epochs                                 930\n",
       "Inference compute (FLOP)              1077\n",
       "Foundation model                      1101\n",
       "Training time (hours)                 1017\n",
       "Training time notes                   1026\n",
       "Finetune compute notes                1117\n",
       "Batch size                            1115\n",
       "Hardware quantity                     1064\n",
       "Hardware utilization                  1147\n",
       "Compute cost notes                    1152\n",
       "Training cloud compute vendor         1169\n",
       "Batch size notes                      1116\n",
       "Finetune compute (FLOP)               1142\n",
       "Training data center                  1168\n",
       "dtype: int64"
      ]
     },
     "execution_count": 18,
     "metadata": {},
     "output_type": "execute_result"
    }
   ],
   "source": [
    "# count the number of missing for each column\n",
    "pcd_dataset.isnull().sum()"
   ]
  },
  {
   "cell_type": "markdown",
   "metadata": {},
   "source": [
    "# Download Model Paper and Reports"
   ]
  },
  {
   "cell_type": "code",
   "execution_count": 19,
   "metadata": {},
   "outputs": [
    {
     "data": {
      "text/plain": [
       "0            https://pubmed.ncbi.nlm.nih.gov/19000969/\n",
       "1    https://huggingface.co/karakuri-ai/karakuri-lm...\n",
       "2                      https://arxiv.org/abs/1312.6026\n",
       "3                     https://arxiv.org/abs/1911.06136\n",
       "4           https://www.aclweb.org/anthology/D12-1110/\n",
       "Name: Link, dtype: object"
      ]
     },
     "execution_count": 19,
     "metadata": {},
     "output_type": "execute_result"
    }
   ],
   "source": [
    "pcd_dataset[\"Link\"].head()"
   ]
  },
  {
   "cell_type": "code",
   "execution_count": 31,
   "metadata": {},
   "outputs": [
    {
     "name": "stdout",
     "output_type": "stream",
     "text": [
      "File ../data/papers/model_2.pdf already exists. Skipping download.\n",
      "PDF downloaded successfully.\n",
      "The PDF is valid.\n",
      "File ../data/papers/model_3.pdf already exists. Skipping download.\n",
      "PDF downloaded successfully.\n",
      "The PDF is valid.\n",
      "File ../data/papers/model_8.pdf already exists. Skipping download.\n",
      "PDF downloaded successfully.\n",
      "The PDF is valid.\n"
     ]
    }
   ],
   "source": [
    "import requests\n",
    "from PyPDF2 import PdfReader\n",
    "import requests\n",
    "import os\n",
    "\n",
    "def download_pdf(url, filename):\n",
    "    # Check if the file already exists\n",
    "    if os.path.exists(filename):\n",
    "        print(f\"File {filename} already exists. Skipping download.\")\n",
    "        return True \n",
    "    \n",
    "    # Proceed with the download if the file does not exist\n",
    "    response = requests.get(url)\n",
    "    if response.status_code == 200:\n",
    "        with open(filename, 'wb') as f:\n",
    "            f.write(response.content)\n",
    "        print(f\"Downloaded {filename} successfully.\")\n",
    "        return True\n",
    "    else:\n",
    "        print(f\"Failed to download {filename}. HTTP status code: {response.status_code}\")\n",
    "        return False\n",
    "\n",
    "def is_pdf_valid(filename):\n",
    "    try:\n",
    "        reader = PdfReader(filename)\n",
    "        if len(reader.pages) > 0:\n",
    "            return True\n",
    "    except:\n",
    "        return False\n",
    "    return False\n",
    "\n",
    "# iterate through the links and download the pdfs\n",
    "\n",
    "for i, link in enumerate(pcd_dataset[\"Link\"]):\n",
    "    if i < 10:\n",
    "        # download only arxiv for now\n",
    "        # TODO: add support for other sources\n",
    "        if \"arxiv.org\" in link:\n",
    "            link = link.replace(\"abs\", \"pdf\")\n",
    "            pdf_url = link + \".pdf\"\n",
    "            # Download the PDF\n",
    "            filename = f\"../data/papers/model_{i}.pdf\"\n",
    "            if download_pdf(pdf_url, filename):\n",
    "                print(\"PDF downloaded successfully.\")\n",
    "                # Check if the PDF is valid\n",
    "                if is_pdf_valid(filename):\n",
    "                    print(\"The PDF is valid.\")\n",
    "                else:\n",
    "                    print(\"The PDF is not valid or corrupted.\")\n",
    "            else:\n",
    "                print(\"Failed to download the PDF.\")\n"
   ]
  },
  {
   "cell_type": "code",
   "execution_count": null,
   "metadata": {},
   "outputs": [],
   "source": []
  }
 ],
 "metadata": {
  "kernelspec": {
   "display_name": ".venv",
   "language": "python",
   "name": "python3"
  },
  "language_info": {
   "codemirror_mode": {
    "name": "ipython",
    "version": 3
   },
   "file_extension": ".py",
   "mimetype": "text/x-python",
   "name": "python",
   "nbconvert_exporter": "python",
   "pygments_lexer": "ipython3",
   "version": "3.9.6"
  }
 },
 "nbformat": 4,
 "nbformat_minor": 2
}
